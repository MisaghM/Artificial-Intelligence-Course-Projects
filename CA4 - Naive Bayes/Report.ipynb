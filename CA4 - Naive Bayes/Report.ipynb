{
 "cells": [
  {
   "attachments": {},
   "cell_type": "markdown",
   "metadata": {},
   "source": [
    "# Misagh Mohaghegh - 810199484"
   ]
  },
  {
   "attachments": {},
   "cell_type": "markdown",
   "metadata": {},
   "source": [
    "Artificial Intelligence CA4: *Naive Bayes*  \n",
    "In this assignment, we will predict the class of a news using naive bayes classifier."
   ]
  },
  {
   "attachments": {},
   "cell_type": "markdown",
   "metadata": {},
   "source": [
    "## News Labels"
   ]
  },
  {
   "attachments": {},
   "cell_type": "markdown",
   "metadata": {},
   "source": [
    "All news are put in the following 6 categories.  \n",
    "A map from the news label text to the news type is also created."
   ]
  },
  {
   "cell_type": "code",
   "execution_count": 1,
   "metadata": {},
   "outputs": [],
   "source": [
    "from enum import Enum\n",
    "\n",
    "\n",
    "class NewsLabel(Enum):\n",
    "    health = 1,\n",
    "    political = 2,\n",
    "    sports = 3,\n",
    "    technology = 4,\n",
    "    art = 5,\n",
    "    accidents = 6\n",
    "\n",
    "\n",
    "label_map = {\n",
    "    'سلامت': NewsLabel.health,\n",
    "    'سیاسی': NewsLabel.political,\n",
    "    'ورزشی': NewsLabel.sports,\n",
    "    'فناوری': NewsLabel.technology,\n",
    "    'فرهنگی/هنری': NewsLabel.art,\n",
    "    'حوادث': NewsLabel.accidents\n",
    "}"
   ]
  },
  {
   "attachments": {},
   "cell_type": "markdown",
   "metadata": {},
   "source": [
    "We will now read the training and testing data."
   ]
  },
  {
   "cell_type": "code",
   "execution_count": 2,
   "metadata": {},
   "outputs": [],
   "source": [
    "import pandas\n",
    "\n",
    "data_train = pandas.read_csv('Dataset/train.csv')\n",
    "data_test = pandas.read_csv('Dataset/test.csv')"
   ]
  },
  {
   "attachments": {},
   "cell_type": "markdown",
   "metadata": {},
   "source": [
    "## Part 1: Preprocessing Data"
   ]
  },
  {
   "attachments": {},
   "cell_type": "markdown",
   "metadata": {},
   "source": [
    "Here, the train and test data are normalized using various methods such as removing stop words and punctuation, stemming and lemmatization."
   ]
  },
  {
   "attachments": {},
   "cell_type": "markdown",
   "metadata": {},
   "source": [
    "**Q1. Stemming and Lemmatization**  \n",
    "Stemming and lemmatization are two methods for text normalization (transforming text into a canonical form for easier natural language processing).  \n",
    "They both reduce words and extract their base form. How they reduce is where they differ.\n",
    "\n",
    "*Stemming:*  \n",
    "This is often removing letters from the start or end of a single word without considering the context or the meaning of the word.  \n",
    "The resulting word is called the word stem and may not always be a valid root of the word and may lead to incorrect words or meanings.  \n",
    "The process is fast but not much accurate.\n",
    "\n",
    "*Lemmatization:*  \n",
    "This is the process of determining the lemma or dictionary form of a word based on its intended meaning.  \n",
    "Unlike stemming, lemmatization considers the context and the meaning of the word and converts it to a meaningful root.  \n",
    "The process is slow but is very accurate."
   ]
  },
  {
   "attachments": {},
   "cell_type": "markdown",
   "metadata": {},
   "source": [
    "The normalization process does the following work:\n",
    "\n",
    "- The text is normalized using Hazm (which does a lot of the work such as unifying numerals to persian numbers, fixing the spacing and punctuation, removing extra spaces, and changing some word to their persian equivalent)  \n",
    "- The text is tokenized for further changes. The Hazm tokenizer splits the parenthesis and punctuation as well.  \n",
    "- The punctuation, parenthesis, and stop words are removed.  \n",
    "- Each word is lemmatized.  \n",
    "- The stop words are removed once again. This is because mostly, only base form of the words are in the stop-word list and we only have the base forms after lemmatizing. And since lemmatization is slow, some stop words were removed in the previous step to speed up the process.\n",
    "\n",
    "Both the training and the testing data are normalized."
   ]
  },
  {
   "cell_type": "code",
   "execution_count": 3,
   "metadata": {},
   "outputs": [],
   "source": [
    "import hazm\n",
    "\n",
    "\n",
    "class Normalizer:\n",
    "    def __init__(self):\n",
    "        self.lem = hazm.Lemmatizer()\n",
    "        self.norm = hazm.Normalizer()\n",
    "        self.token = hazm.WordTokenizer()\n",
    "\n",
    "        self.stopwords_file = set(hazm.stopwords_list())\n",
    "        self.stopwords_additional = set()  # {'ایران'}\n",
    "        self.stopwords = self.stopwords_file | self.stopwords_additional\n",
    "\n",
    "        self.punctuations = {\"'\", '\"', '.', ',', '،', ':', ';', '؛', '?', '!',\n",
    "                             '«', '»', '(', ')', '[', ']', '{', '}'}\n",
    "        self.punc_and_stop = self.stopwords | self.punctuations\n",
    "\n",
    "    def normalize(self, text: str) -> list[str]:\n",
    "        res = self.norm.normalize(text)\n",
    "        res = self.token.tokenize(res)\n",
    "        res = [w for w in res if w not in self.punc_and_stop]\n",
    "        res = [self.lem.lemmatize(w).split('#', 1)[0] for w in res]\n",
    "        res = [w for w in filter(None, res) if w not in self.stopwords]\n",
    "        return res\n",
    "\n",
    "\n",
    "norm = Normalizer()\n",
    "\n",
    "for i, row in enumerate(data_train.itertuples()):\n",
    "    data_train.iloc[i].content = norm.normalize(row.content)\n",
    "for i, row in enumerate(data_test.itertuples()):\n",
    "    data_test.iloc[i].content = norm.normalize(row.content)"
   ]
  },
  {
   "attachments": {},
   "cell_type": "markdown",
   "metadata": {},
   "source": [
    "## Part 2: A. Naive Bayes"
   ]
  },
  {
   "attachments": {},
   "cell_type": "markdown",
   "metadata": {},
   "source": [
    "The naive bayes formula is implemented."
   ]
  },
  {
   "attachments": {},
   "cell_type": "markdown",
   "metadata": {},
   "source": [
    "Firstly, the dataset is categorized, which means a map is made from the news label to all of the available content with that label. (The content sentence turned into a list of normalized words in the previous step)  \n",
    "The `NaiveBayes` class takes the categorized training data and calculates the following:\n",
    "- `label_total_word_count`: A map from each news label to how many words are in every content with that label.  \n",
    "- `label_word_count`: A map from each news label to all of the words in the contents that had the label. Each word is also mapped to the number of occurrences it had.\n",
    "- `total_count`: The total count of all of the words in all contents.\n",
    "\n",
    "It offers a `classify` method which will predict which news label its input `content` has.  \n",
    "Sum of logarithms is used instead of multiplying the probabilities because the number becomes extremely small and is considered 0 due to the way floating-points are."
   ]
  },
  {
   "cell_type": "code",
   "execution_count": 4,
   "metadata": {},
   "outputs": [],
   "source": [
    "import math\n",
    "\n",
    "data_train_cat = {x: [] for x in NewsLabel}\n",
    "for row in data_train.itertuples():\n",
    "    data_train_cat[label_map[row.label]].append(row.content)\n",
    "\n",
    "data_test_cat = {x: [] for x in NewsLabel}\n",
    "for row in data_test.itertuples():\n",
    "    data_test_cat[label_map[row.label]].append(row.content)\n",
    "\n",
    "\n",
    "class NaiveBayes:\n",
    "    total_word_count: dict[NewsLabel, int]\n",
    "    label_word_count: dict[NewsLabel, dict[str, int]]\n",
    "    total_count: int\n",
    "\n",
    "    def __init__(self, data_train: dict[NewsLabel, list[list[str]]]):\n",
    "        self.total_word_count = {x: 0 for x in NewsLabel}\n",
    "        self.label_word_count = {x: {} for x in NewsLabel}\n",
    "        self._count(data_train)\n",
    "        self.total_count = sum(self.total_word_count.values())\n",
    "\n",
    "    def _count(self, data_train: dict[NewsLabel, list[list[str]]]):\n",
    "        for type, content_list in data_train.items():\n",
    "            for content in content_list:\n",
    "                for word in content:\n",
    "                    self.total_word_count[type] += 1\n",
    "                    if word in self.label_word_count[type]:\n",
    "                        self.label_word_count[type][word] += 1\n",
    "                    else:\n",
    "                        self.label_word_count[type][word] = 1\n",
    "\n",
    "    def classify(self, content: list[str]) -> NewsLabel:\n",
    "        label_prob = {x: 0 for x in NewsLabel}\n",
    "        for label in NewsLabel:\n",
    "            prob = math.log2(self.total_word_count[label] / self.total_count)\n",
    "            for word in content:\n",
    "                if word in self.label_word_count[label]:\n",
    "                    prob += math.log2(self.label_word_count[label][word] / self.total_word_count[label])\n",
    "                else:\n",
    "                    prob = -math.inf\n",
    "                    break\n",
    "            label_prob[label] = prob\n",
    "\n",
    "        if max(label_prob.values()) == -math.inf:\n",
    "            return None\n",
    "        return max(label_prob, key=label_prob.get)\n",
    "\n",
    "    def classify_smoothing(self, content: list[str]) -> NewsLabel:\n",
    "        label_prob = {x: 0 for x in NewsLabel}\n",
    "        for label in NewsLabel:\n",
    "            prob = math.log2(self.total_word_count[label] / self.total_count)\n",
    "            for word in content:\n",
    "                if word in self.label_word_count[label]:\n",
    "                    prob += math.log2((1 + self.label_word_count[label][word]) /\n",
    "                                     (self.total_word_count[label] + len(self.label_word_count[label])))\n",
    "                else:\n",
    "                    prob += math.log2(1 / (self.total_word_count[label] + len(self.label_word_count[label])))\n",
    "            label_prob[label] = prob\n",
    "\n",
    "        return max(label_prob, key=label_prob.get)\n",
    "\n",
    "\n",
    "bayes = NaiveBayes(data_train_cat)"
   ]
  },
  {
   "attachments": {},
   "cell_type": "markdown",
   "metadata": {},
   "source": [
    "**Q2. Bayes' Theorem**  \n",
    "\n",
    "$$ P(c|x) = \\frac{P(x|c)P(c)}{P(x)} $$\n",
    "$$ P(c|x) = P(x_1|c) \\times P(x_2|c) \\times \\ldots \\times P(x_n|c) \\times P(c) $$\n",
    "\n",
    "- `[P(c|x)]` Posterior Probability:  \n",
    "  The probability of **c** after observing **x**.  \n",
    "  In this example, it is the probability of being in class (news label) **c** if it contains the word **x**.\n",
    "- `[P(x|c)]` Likelihood:  \n",
    "  The probability of **x** given **c**.  \n",
    "  This is the probability of seeing word **x** in class **c**,  \n",
    "  which is the number of **x** appearances in class **c** divided by the total words in class **c**.\n",
    "- `[P(c)]` Class Prior Probability:  \n",
    "  The probability of **c** without any given conditions (the probability of being in the **c** class by default)  \n",
    "  This is the number of **c** classes divided by the total dataset entries.\n",
    "- `[P(x)]` Evidence (Predictor Prior Probability):  \n",
    "  The probability of **x** without any given conditions (the probability of word **x** appearing)  \n",
    "  This is the count of word **x** in the dataset divided by the total word count."
   ]
  },
  {
   "attachments": {},
   "cell_type": "markdown",
   "metadata": {},
   "source": [
    "## Part 2: B. Bigrams"
   ]
  },
  {
   "attachments": {},
   "cell_type": "markdown",
   "metadata": {},
   "source": [
    "**Q3. Bigram Example**\n",
    "\n",
    "- The bat scared him.  \n",
    "- He grabbed the bat.  \n",
    "\n",
    "Using only unigrams, the two bats cannot be distinguished.  \n",
    "Using bigrams, the first bat comes with the word *scared* which gives a hint that it's referring to the animal.  \n",
    "The second bat comes with the *grab* verb which gives us a hint about baseball bats.\n",
    "\n",
    "A bigram is enough in this case and a longer n-gram is not required."
   ]
  },
  {
   "attachments": {},
   "cell_type": "markdown",
   "metadata": {},
   "source": [
    "## Part 2: C. Additive Smoothing"
   ]
  },
  {
   "attachments": {},
   "cell_type": "markdown",
   "metadata": {},
   "source": [
    "**Q4. Why does the probability become 0**  \n",
    "When a word does not exist in a news label dataset, the probability of the word being in that label is considered zero.  \n",
    "Recall the Naive Bayes formula; since all of the terms (the probability for each word being in a class) are multiplied together, if one of them is zero, then the whole result becomes zero.  \n",
    "This means that if a word does not exist in a label dataset, the probability of a news being in that label and having the word is considered zero.  \n",
    "\n",
    "**Q5. Additive Smoothing**  \n",
    "A solution to the previous problem is additive smoothing, or laplace smoothing.  \n",
    "The likelihood `[P(x|c)]` will be calculated as follows:\n",
    "\n",
    "$$ P(x|c) = \\frac{α + number\\ of\\ x\\ appearances\\ in\\ class\\ c}{total\\ words\\ in\\ class\\ c + α \\times unique\\ words\\ in\\ class\\ c} $$\n",
    "\n",
    "*α* is the parameter for additive smoothing.  \n",
    "Now if a word does not exist in a class, the probability will not be zero and the class will not be immediately discarded.  \n",
    "The higher the α is, the closer the probabilities will get to a uniform distribution.  \n",
    "Since we do not want that, we will use an α of 1 to only make the probability not equal zero."
   ]
  },
  {
   "attachments": {},
   "cell_type": "markdown",
   "metadata": {},
   "source": [
    "## Part 2: D. Correctness Checking"
   ]
  },
  {
   "attachments": {},
   "cell_type": "markdown",
   "metadata": {},
   "source": [
    "**Q6. Word Occurrence Bar Plot**"
   ]
  },
  {
   "cell_type": "code",
   "execution_count": 5,
   "metadata": {},
   "outputs": [
    {
     "data": {
      "image/png": "[encoded data removed]",
      "text/plain": [
       "<Figure size 640x480 with 1 Axes>"
      ]
     },
     "metadata": {},
     "output_type": "display_data"
    },
    {
     "data": {
      "image/png": "[encoded data removed]",
      "text/plain": [
       "<Figure size 640x480 with 1 Axes>"
      ]
     },
     "metadata": {},
     "output_type": "display_data"
    },
    {
     "data": {
      "image/png": "[encoded data removed]",
      "text/plain": [
       "<Figure size 640x480 with 1 Axes>"
      ]
     },
     "metadata": {},
     "output_type": "display_data"
    },
    {
     "data": {
      "image/png": "[encoded data removed]",
      "text/plain": [
       "<Figure size 640x480 with 1 Axes>"
      ]
     },
     "metadata": {},
     "output_type": "display_data"
    },
    {
     "data": {
      "image/png": "[encoded data removed]",
      "text/plain": [
       "<Figure size 640x480 with 1 Axes>"
      ]
     },
     "metadata": {},
     "output_type": "display_data"
    },
    {
     "data": {
      "image/png": "[encoded data removed]",
      "text/plain": [
       "<Figure size 640x480 with 1 Axes>"
      ]
     },
     "metadata": {},
     "output_type": "display_data"
    }
   ],
   "source": [
    "import matplotlib.pyplot as plt\n",
    "\n",
    "from arabic_reshaper import reshape\n",
    "from bidi.algorithm import get_display\n",
    "\n",
    "dframe = pandas.DataFrame(bayes.label_word_count)\n",
    "for label in dframe:\n",
    "    top5 = dframe[label].nlargest(5)\n",
    "    words = [get_display(reshape(word)) for word in top5.index]\n",
    "    plt.bar(words, top5, color='green')\n",
    "    plt.ylabel(\"Count\")\n",
    "    plt.title(label.name.capitalize())\n",
    "    plt.show()"
   ]
  },
  {
   "attachments": {},
   "cell_type": "markdown",
   "metadata": {},
   "source": [
    "The top 5 words with the most occurrences in each label:\n",
    "- Health:\n",
    "  1. Ghaza\n",
    "  2. Masraf\n",
    "  3. Bimar\n",
    "  4. Badan\n",
    "  5. Kahesh\n",
    "- Political:\n",
    "  1. Keshvar\n",
    "  2. Iran\n",
    "  3. Mardom\n",
    "  4. Dolat\n",
    "  5. Majles\n",
    "- Sports:\n",
    "  1. Team\n",
    "  2. Bazi\n",
    "  3. Bashgah\n",
    "  4. Esteghlal\n",
    "  5. Football\n",
    "- Technology:\n",
    "  1. Estefade\n",
    "  2. Karbar\n",
    "  3. Sherkat\n",
    "  4. Huawei\n",
    "  5. Ghosh *(the i is dropped due to lemmatization)*\n",
    "- Art:\n",
    "  1. Film\n",
    "  2. Iran\n",
    "  3. Jashnvareh\n",
    "  4. Sal\n",
    "  5. Cinema\n",
    "- Accidents:\n",
    "  1. Hadeseh\n",
    "  2. Police\n",
    "  3. Nafar\n",
    "  4. Mahal\n",
    "  5. Gozaresh\n",
    "\n",
    "Some words, such as *Iran* are used in multiple labels (Political and Art)  \n",
    "Such words are not much useful and removing them may help the classification process."
   ]
  },
  {
   "attachments": {},
   "cell_type": "markdown",
   "metadata": {},
   "source": [
    "## Part 3: Evaluation"
   ]
  },
  {
   "attachments": {},
   "cell_type": "markdown",
   "metadata": {},
   "source": [
    "**Q7. Evaluation Metrics**  \n",
    "4 metrics are used for evaluation:\n",
    "\n",
    "$$\n",
    "Accuracy = \\frac{total\\ correctly\\ detected}{total\\ entries},\\,\n",
    "Precision = \\frac{correctly\\ detected\\ in\\ class}{detected\\ ones\\ in\\ class}\n",
    "$$\n",
    "$$\n",
    "Recall = \\frac{correctly\\ detected\\ in\\ class}{total\\ entries\\ in\\ class},\\,\n",
    "F1 = 2*\\frac{Precision \\times Recall}{Precision + Recall}\n",
    "$$\n",
    "\n",
    "\n",
    "Precision is how much it can detect the class correctly between everything that it has predicted to be in the class.   \n",
    "Recall is how much it can detect the class correctly between everything that is actually in the class.\n",
    "\n",
    "If we have for example, 100 *health* labeled news, and the agent detects only 10 but guesses them all correctly, we have a precision of 100%  \n",
    "But this alone does not mean much because the recall is only 10% and the agent could not get most of them.\n",
    "\n",
    "Similarly, we can have a high recall but low accuracy.  \n",
    "If we have for example, 10 *health* labeled news, and the agent detects all 10 correctly, but also predicts all other news to also be in the *health* category, we have a 100% recall, but the precision will be very low.\n",
    "\n",
    "Therefore, only using one of the two metrics is not enough."
   ]
  },
  {
   "attachments": {},
   "cell_type": "markdown",
   "metadata": {},
   "source": [
    "**Q8. F1 Score**  \n",
    "The F1 score is the harmonic mean (an alternative to the usual arithmetic mean) of precision and recall.  \n",
    "This combines and averages the two previously discussed metrics into a single rate, but it gives a larger weight to the lower one."
   ]
  },
  {
   "attachments": {},
   "cell_type": "markdown",
   "metadata": {},
   "source": [
    "**Q9. Metric Averages**  \n",
    "- **Macro Avg** is the average of a metric (precision, recall, or F1) for each class in a multi-class model.  \n",
    "- **Weighted Avg** is the weighted average of a metric for each class, where the weight of each class is the number of samples in that class.  \n",
    "- **Micro Avg** is the metric if all classes were one.  \n",
    "  For micro average precision, we have to divide the total correctly detected by everything that was detected.  \n",
    "  Micro average recall also becomes the same as micro average precision. (this is because an error (identifying class A as class B) is a false positive for class B, and a false negative for class A)  \n",
    "  Therefore, micro average F1 is also the same, and the result is the accuracy:  \n",
    "  ***Micro-Precision = Micro-Recall = Micro-F1 = Accuracy***\n",
    "\n",
    "In the results, the macro/weighted/micro **F1 score** average is calculated."
   ]
  },
  {
   "attachments": {},
   "cell_type": "markdown",
   "metadata": {},
   "source": [
    "**Q10. Calculating Metrics**"
   ]
  },
  {
   "cell_type": "code",
   "execution_count": 6,
   "metadata": {},
   "outputs": [],
   "source": [
    "from dataclasses import dataclass\n",
    "from typing import Callable\n",
    "\n",
    "\n",
    "@dataclass\n",
    "class Evaluation:\n",
    "    accuracy: float\n",
    "    precision: dict[NewsLabel, float]\n",
    "    recall: dict[NewsLabel, float]\n",
    "    f1_score: dict[NewsLabel, float]\n",
    "    macro_avg: float\n",
    "    micro_avg: float\n",
    "    weighted_avg: float\n",
    "\n",
    "\n",
    "def evaluator(classifier_function: Callable[[list[str]], NewsLabel]) -> Evaluation:\n",
    "    correct_in_class = {x: 0 for x in NewsLabel}\n",
    "    identified_as_class = {x: 0 for x in NewsLabel}\n",
    "    not_identified_in_class = {x: 0 for x in NewsLabel}\n",
    "\n",
    "    precision = {x: 0 for x in NewsLabel}\n",
    "    recall = {x: 0 for x in NewsLabel}\n",
    "    f1_score = {x: 0 for x in NewsLabel}\n",
    "\n",
    "    for label in NewsLabel:\n",
    "        correct = 0\n",
    "        not_identified = 0\n",
    "\n",
    "        for content in data_test_cat[label]:\n",
    "            identified = classifier_function(content)\n",
    "            if identified is None:\n",
    "                not_identified += 1\n",
    "                continue\n",
    "            if identified == label:\n",
    "                correct += 1\n",
    "            identified_as_class[identified] += 1\n",
    "\n",
    "        correct_in_class[label] = correct\n",
    "        not_identified_in_class[label] = not_identified\n",
    "\n",
    "    accuracy = sum(correct_in_class.values()) / len(data_test)\n",
    "    for label in NewsLabel:\n",
    "        recall[label] = correct_in_class[label] / len(data_test_cat[label])\n",
    "        precision[label] = correct_in_class[label] / identified_as_class[label]\n",
    "        if correct_in_class[label] == 0:\n",
    "            f1_score[label] = 0\n",
    "        else:\n",
    "            f1_score[label] = 2 * precision[label] * recall[label] / (precision[label] + recall[label])\n",
    "\n",
    "    macro_avg = sum(f1_score.values()) / len(NewsLabel)\n",
    "    weighted_avg = sum([f1_score[label] * len(data_test_cat[label]) for label in NewsLabel]) / len(data_test)\n",
    "    micro_avg = accuracy\n",
    "\n",
    "    return Evaluation(accuracy, precision, recall, f1_score, macro_avg, micro_avg, weighted_avg)\n",
    "\n",
    "\n",
    "eval_bayes = evaluator(bayes.classify)\n",
    "eval_smooth = evaluator(bayes.classify_smoothing)"
   ]
  },
  {
   "cell_type": "code",
   "execution_count": 7,
   "metadata": {},
   "outputs": [
    {
     "name": "stdout",
     "output_type": "stream",
     "text": [
      "Without additive smoothing:\n"
     ]
    },
    {
     "data": {
      "text/html": [
       "<div>\n",
       "<style scoped>\n",
       "    .dataframe tbody tr th:only-of-type {\n",
       "        vertical-align: middle;\n",
       "    }\n",
       "\n",
       "    .dataframe tbody tr th {\n",
       "        vertical-align: top;\n",
       "    }\n",
       "\n",
       "    .dataframe thead th {\n",
       "        text-align: right;\n",
       "    }\n",
       "</style>\n",
       "<table border=\"1\" class=\"dataframe\">\n",
       "  <thead>\n",
       "    <tr style=\"text-align: right;\">\n",
       "      <th></th>\n",
       "      <th>Health</th>\n",
       "      <th>Political</th>\n",
       "      <th>Sports</th>\n",
       "      <th>Technology</th>\n",
       "      <th>Art</th>\n",
       "      <th>Accidents</th>\n",
       "      <th>All Classes</th>\n",
       "    </tr>\n",
       "  </thead>\n",
       "  <tbody>\n",
       "    <tr>\n",
       "      <th>Precision</th>\n",
       "      <td>0.923077</td>\n",
       "      <td>0.818182</td>\n",
       "      <td>0.955556</td>\n",
       "      <td>0.708333</td>\n",
       "      <td>0.847826</td>\n",
       "      <td>0.875</td>\n",
       "      <td>NaN</td>\n",
       "    </tr>\n",
       "    <tr>\n",
       "      <th>Recall</th>\n",
       "      <td>0.135593</td>\n",
       "      <td>0.225</td>\n",
       "      <td>0.226316</td>\n",
       "      <td>0.10119</td>\n",
       "      <td>0.216667</td>\n",
       "      <td>0.14</td>\n",
       "      <td>NaN</td>\n",
       "    </tr>\n",
       "    <tr>\n",
       "      <th>F1-score</th>\n",
       "      <td>0.236453</td>\n",
       "      <td>0.352941</td>\n",
       "      <td>0.365957</td>\n",
       "      <td>0.177083</td>\n",
       "      <td>0.345133</td>\n",
       "      <td>0.241379</td>\n",
       "      <td>NaN</td>\n",
       "    </tr>\n",
       "    <tr>\n",
       "      <th>Accuracy</th>\n",
       "      <td>NaN</td>\n",
       "      <td>NaN</td>\n",
       "      <td>NaN</td>\n",
       "      <td>NaN</td>\n",
       "      <td>NaN</td>\n",
       "      <td>NaN</td>\n",
       "      <td>0.175785</td>\n",
       "    </tr>\n",
       "    <tr>\n",
       "      <th>Macro Avg</th>\n",
       "      <td>NaN</td>\n",
       "      <td>NaN</td>\n",
       "      <td>NaN</td>\n",
       "      <td>NaN</td>\n",
       "      <td>NaN</td>\n",
       "      <td>NaN</td>\n",
       "      <td>0.286491</td>\n",
       "    </tr>\n",
       "    <tr>\n",
       "      <th>Micro Avg</th>\n",
       "      <td>NaN</td>\n",
       "      <td>NaN</td>\n",
       "      <td>NaN</td>\n",
       "      <td>NaN</td>\n",
       "      <td>NaN</td>\n",
       "      <td>NaN</td>\n",
       "      <td>0.175785</td>\n",
       "    </tr>\n",
       "    <tr>\n",
       "      <th>Weighted Avg</th>\n",
       "      <td>NaN</td>\n",
       "      <td>NaN</td>\n",
       "      <td>NaN</td>\n",
       "      <td>NaN</td>\n",
       "      <td>NaN</td>\n",
       "      <td>NaN</td>\n",
       "      <td>0.288899</td>\n",
       "    </tr>\n",
       "  </tbody>\n",
       "</table>\n",
       "</div>"
      ],
      "text/plain": [
       "                Health Political    Sports Technology       Art Accidents  \\\n",
       "Precision     0.923077  0.818182  0.955556   0.708333  0.847826     0.875   \n",
       "Recall        0.135593     0.225  0.226316    0.10119  0.216667      0.14   \n",
       "F1-score      0.236453  0.352941  0.365957   0.177083  0.345133  0.241379   \n",
       "Accuracy           NaN       NaN       NaN        NaN       NaN       NaN   \n",
       "Macro Avg          NaN       NaN       NaN        NaN       NaN       NaN   \n",
       "Micro Avg          NaN       NaN       NaN        NaN       NaN       NaN   \n",
       "Weighted Avg       NaN       NaN       NaN        NaN       NaN       NaN   \n",
       "\n",
       "             All Classes  \n",
       "Precision            NaN  \n",
       "Recall               NaN  \n",
       "F1-score             NaN  \n",
       "Accuracy        0.175785  \n",
       "Macro Avg       0.286491  \n",
       "Micro Avg       0.175785  \n",
       "Weighted Avg    0.288899  "
      ]
     },
     "metadata": {},
     "output_type": "display_data"
    },
    {
     "name": "stdout",
     "output_type": "stream",
     "text": [
      "With additive smoothing:\n"
     ]
    },
    {
     "data": {
      "text/html": [
       "<div>\n",
       "<style scoped>\n",
       "    .dataframe tbody tr th:only-of-type {\n",
       "        vertical-align: middle;\n",
       "    }\n",
       "\n",
       "    .dataframe tbody tr th {\n",
       "        vertical-align: top;\n",
       "    }\n",
       "\n",
       "    .dataframe thead th {\n",
       "        text-align: right;\n",
       "    }\n",
       "</style>\n",
       "<table border=\"1\" class=\"dataframe\">\n",
       "  <thead>\n",
       "    <tr style=\"text-align: right;\">\n",
       "      <th></th>\n",
       "      <th>Health</th>\n",
       "      <th>Political</th>\n",
       "      <th>Sports</th>\n",
       "      <th>Technology</th>\n",
       "      <th>Art</th>\n",
       "      <th>Accidents</th>\n",
       "      <th>All Classes</th>\n",
       "    </tr>\n",
       "  </thead>\n",
       "  <tbody>\n",
       "    <tr>\n",
       "      <th>Precision</th>\n",
       "      <td>0.971429</td>\n",
       "      <td>0.892019</td>\n",
       "      <td>0.984043</td>\n",
       "      <td>0.957055</td>\n",
       "      <td>0.969325</td>\n",
       "      <td>0.906103</td>\n",
       "      <td>NaN</td>\n",
       "    </tr>\n",
       "    <tr>\n",
       "      <th>Recall</th>\n",
       "      <td>0.960452</td>\n",
       "      <td>0.95</td>\n",
       "      <td>0.973684</td>\n",
       "      <td>0.928571</td>\n",
       "      <td>0.877778</td>\n",
       "      <td>0.965</td>\n",
       "      <td>NaN</td>\n",
       "    </tr>\n",
       "    <tr>\n",
       "      <th>F1-score</th>\n",
       "      <td>0.965909</td>\n",
       "      <td>0.920097</td>\n",
       "      <td>0.978836</td>\n",
       "      <td>0.942598</td>\n",
       "      <td>0.921283</td>\n",
       "      <td>0.934625</td>\n",
       "      <td>NaN</td>\n",
       "    </tr>\n",
       "    <tr>\n",
       "      <th>Accuracy</th>\n",
       "      <td>NaN</td>\n",
       "      <td>NaN</td>\n",
       "      <td>NaN</td>\n",
       "      <td>NaN</td>\n",
       "      <td>NaN</td>\n",
       "      <td>NaN</td>\n",
       "      <td>0.943498</td>\n",
       "    </tr>\n",
       "    <tr>\n",
       "      <th>Macro Avg</th>\n",
       "      <td>NaN</td>\n",
       "      <td>NaN</td>\n",
       "      <td>NaN</td>\n",
       "      <td>NaN</td>\n",
       "      <td>NaN</td>\n",
       "      <td>NaN</td>\n",
       "      <td>0.943891</td>\n",
       "    </tr>\n",
       "    <tr>\n",
       "      <th>Micro Avg</th>\n",
       "      <td>NaN</td>\n",
       "      <td>NaN</td>\n",
       "      <td>NaN</td>\n",
       "      <td>NaN</td>\n",
       "      <td>NaN</td>\n",
       "      <td>NaN</td>\n",
       "      <td>0.943498</td>\n",
       "    </tr>\n",
       "    <tr>\n",
       "      <th>Weighted Avg</th>\n",
       "      <td>NaN</td>\n",
       "      <td>NaN</td>\n",
       "      <td>NaN</td>\n",
       "      <td>NaN</td>\n",
       "      <td>NaN</td>\n",
       "      <td>NaN</td>\n",
       "      <td>0.943566</td>\n",
       "    </tr>\n",
       "  </tbody>\n",
       "</table>\n",
       "</div>"
      ],
      "text/plain": [
       "                Health Political    Sports Technology       Art Accidents  \\\n",
       "Precision     0.971429  0.892019  0.984043   0.957055  0.969325  0.906103   \n",
       "Recall        0.960452      0.95  0.973684   0.928571  0.877778     0.965   \n",
       "F1-score      0.965909  0.920097  0.978836   0.942598  0.921283  0.934625   \n",
       "Accuracy           NaN       NaN       NaN        NaN       NaN       NaN   \n",
       "Macro Avg          NaN       NaN       NaN        NaN       NaN       NaN   \n",
       "Micro Avg          NaN       NaN       NaN        NaN       NaN       NaN   \n",
       "Weighted Avg       NaN       NaN       NaN        NaN       NaN       NaN   \n",
       "\n",
       "             All Classes  \n",
       "Precision            NaN  \n",
       "Recall               NaN  \n",
       "F1-score             NaN  \n",
       "Accuracy        0.943498  \n",
       "Macro Avg       0.943891  \n",
       "Micro Avg       0.943498  \n",
       "Weighted Avg    0.943566  "
      ]
     },
     "metadata": {},
     "output_type": "display_data"
    }
   ],
   "source": [
    "def display_eval(evaluation_result: Evaluation):\n",
    "    res_cols = [*(x.name.capitalize() for x in NewsLabel), 'All Classes']\n",
    "    res_rows = ['Precision', 'Recall', 'F1-score', 'Accuracy', 'Macro Avg', 'Micro Avg', 'Weighted Avg']\n",
    "    result = pandas.DataFrame(index=res_rows, columns=res_cols)\n",
    "\n",
    "    for x in NewsLabel:\n",
    "        result.loc['Precision', x.name.capitalize()] = evaluation_result.precision[x]\n",
    "        result.loc['Recall', x.name.capitalize()] = evaluation_result.recall[x]\n",
    "        result.loc['F1-score', x.name.capitalize()] = evaluation_result.f1_score[x]\n",
    "\n",
    "    result.loc['Accuracy', 'All Classes'] = evaluation_result.accuracy\n",
    "    result.loc['Macro Avg', 'All Classes'] = evaluation_result.macro_avg\n",
    "    result.loc['Micro Avg', 'All Classes'] = evaluation_result.micro_avg\n",
    "    result.loc['Weighted Avg', 'All Classes'] = evaluation_result.weighted_avg\n",
    "    \n",
    "    display(result)\n",
    "\n",
    "print(\"Without additive smoothing:\")\n",
    "display_eval(eval_bayes)\n",
    "print(\"With additive smoothing:\")\n",
    "display_eval(eval_smooth)"
   ]
  },
  {
   "attachments": {},
   "cell_type": "markdown",
   "metadata": {},
   "source": [
    "**Q11. Smoothing Results**  \n",
    "Without additive smoothing, the recall and accuracy are very low. This is because of the issue addressed in question 4.  \n",
    "Many of the test news have words that are not in the training data and this makes the bayes classifier not identify it in any class because all of the probabilities are 0.  \n",
    "In the case that all of the words do exist, it does identify it mostly correctly, which is why the precision is high."
   ]
  },
  {
   "attachments": {},
   "cell_type": "markdown",
   "metadata": {},
   "source": [
    "**Q12. Wrongly Identified**"
   ]
  },
  {
   "cell_type": "code",
   "execution_count": 8,
   "metadata": {},
   "outputs": [
    {
     "name": "stdout",
     "output_type": "stream",
     "text": [
      "Wrongly identified in class:\n",
      "{<NewsLabel.health: (1,)>: 7, <NewsLabel.political: (2,)>: 10, <NewsLabel.sports: (3,)>: 5, <NewsLabel.technology: (4,)>: 12, <NewsLabel.art: (5,)>: 22, <NewsLabel.accidents: 6>: 7}\n",
      "Wrongly identified as:\n",
      "{<NewsLabel.health: (1,)>: 5, <NewsLabel.political: (2,)>: 23, <NewsLabel.sports: (3,)>: 3, <NewsLabel.technology: (4,)>: 7, <NewsLabel.art: (5,)>: 5, <NewsLabel.accidents: 6>: 20} \n",
      "\n",
      "Examples:\n",
      "\n",
      "وزیر بهداشت نامه معاون بهداشت وزارتخانه دستور سریع مرکز خدمات جامع سلامت روستا چنار محمود ایجاد تیم \n",
      "Correct: Health, Identified: Political\n",
      "\n",
      "وکیل مدافع نازنین زاغری متهم ایران - بریتانیایی برگزاری دادگاه اعلام ختم رسیدگی دومین پرونده موکل ات\n",
      "Correct: Political, Identified: Accidents\n",
      "\n",
      "مسؤول منطقه غرب اصفهان اورژانس دانشگاه علوم پزشک اصفهان مصدوم ۱۵۰ هوادار دیدار تیم‌های سپاهان پرسپول\n",
      "Correct: Sports, Identified: Accidents\n",
      "\n",
      "روز گذشته موشک مرحله فالکون ۹ حامل ۴۰ ماهواره ساعت ۱۲:۲۴ ظهر وقت منطقه زمان شرق ۲۰:۵۴ وقت تهران پایگ\n",
      "Correct: Technology, Identified: Accidents\n",
      "\n",
      "- چهارشنبه تیر ۱۴۰۱ اتفاق نادر جالب رخ قطعا صورت تصادف برنامه‌ریزی اطلاع شکل هم‌زمان محل انجمن صنف ر\n",
      "Correct: Art, Identified: Political\n",
      "\n"
     ]
    }
   ],
   "source": [
    "def print_wrongs(classifier_function: Callable[[list[str]], NewsLabel], max_print: int):\n",
    "    wrongs_in_class = {x: 0 for x in NewsLabel}\n",
    "    wrongs_as = {x: 0 for x in NewsLabel}\n",
    "\n",
    "    for label in NewsLabel:\n",
    "        for content in data_test_cat[label]:\n",
    "            identified = classifier_function(content)\n",
    "            if identified != label:\n",
    "                wrongs_in_class[label] += 1\n",
    "                wrongs_as[identified] += 1\n",
    "\n",
    "    print('Wrongly identified in class:')\n",
    "    print(wrongs_in_class)\n",
    "    print('Wrongly identified as:')\n",
    "    print(wrongs_as, '\\n')\n",
    "\n",
    "    print('Examples:\\n')\n",
    "    wrongs = 0\n",
    "    for label in NewsLabel:\n",
    "        for content in data_test_cat[label]:\n",
    "            identified = classifier_function(content)\n",
    "            if identified != label:\n",
    "                print(' '.join(content)[:100])\n",
    "                print(f'Correct: {label.name.capitalize()}, Identified: {identified.name.capitalize()}\\n')\n",
    "                wrongs += 1\n",
    "                if wrongs == max_print:\n",
    "                    return\n",
    "                break\n",
    "\n",
    "\n",
    "print_wrongs(bayes.classify_smoothing, 5)"
   ]
  },
  {
   "attachments": {},
   "cell_type": "markdown",
   "metadata": {},
   "source": [
    "As we can see, mostly art, technology, and political news are identified incorrectly, and most wrongly identified are identified as political and accidents.  \n",
    "This means that there are some words that have high occurrence in all of those labels.  \n",
    "We can improve this by tweaking the preprocessor and removing more stop words based on a longer list of high occurrence words."
   ]
  }
 ],
 "metadata": {
  "kernelspec": {
   "display_name": "afj",
   "language": "python",
   "name": "python3"
  },
  "language_info": {
   "codemirror_mode": {
    "name": "ipython",
    "version": 3
   },
   "file_extension": ".py",
   "mimetype": "text/x-python",
   "name": "python",
   "nbconvert_exporter": "python",
   "pygments_lexer": "ipython3",
   "version": "3.11.0"
  },
  "orig_nbformat": 4,
  "vscode": {
   "interpreter": {
    "hash": "721da392d3b88d5b235879124a6a88e50064fd58595afbb2bc1304e7e0b62123"
   }
  }
 },
 "nbformat": 4,
 "nbformat_minor": 2
}
