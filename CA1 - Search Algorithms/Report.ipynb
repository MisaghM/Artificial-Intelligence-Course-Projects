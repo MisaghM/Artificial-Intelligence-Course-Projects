{
 "cells": [
  {
   "attachments": {},
   "cell_type": "markdown",
   "metadata": {},
   "source": [
    "# Misagh Mohaghegh - 810199484"
   ]
  },
  {
   "attachments": {},
   "cell_type": "markdown",
   "metadata": {},
   "source": [
    "Artificial Intelligence CA1: *Search Algorithms*  \n",
    "In this assignment, a problem is solved using various searching methods including BFS, IDS, and weighted A*."
   ]
  },
  {
   "cell_type": "markdown",
   "metadata": {},
   "source": [
    "Here, `INPUT` is defined so we can easily have all algorithms run the same test."
   ]
  },
  {
   "cell_type": "code",
   "execution_count": 1,
   "metadata": {},
   "outputs": [],
   "source": [
    "INPUT = 'Inputs/input_0.txt'"
   ]
  },
  {
   "attachments": {},
   "cell_type": "markdown",
   "metadata": {},
   "source": [
    "## Graph and States"
   ]
  },
  {
   "cell_type": "markdown",
   "metadata": {},
   "source": [
    "First of all, our graph environment is described.  \n",
    "Alongside the `nodes` which contain their type, sets of all nodes containing `recipes` and all `hard nodes` are kept.  \n",
    "A dictionary mapping a node with a `devotee` to the recipes it requires to be satisfied is also saved in the graph's fields."
   ]
  },
  {
   "cell_type": "code",
   "execution_count": 2,
   "metadata": {},
   "outputs": [],
   "source": [
    "from enum import Flag, auto\n",
    "from dataclasses import dataclass\n",
    "from typing import Any, Callable\n",
    "\n",
    "\n",
    "@dataclass\n",
    "class Edge:\n",
    "    dst: int\n",
    "    weight: int\n",
    "\n",
    "\n",
    "class NodeType(Flag):\n",
    "    NORMAL = auto()\n",
    "    DEVOTEE = auto()\n",
    "    RECIPE = auto()\n",
    "    HARD = auto()\n",
    "\n",
    "\n",
    "@dataclass\n",
    "class Node:\n",
    "    adj: list[Edge]\n",
    "    type: NodeType\n",
    "\n",
    "\n",
    "class Graph:\n",
    "    def __init__(self, n: int):\n",
    "        self.nodes = [Node([], NodeType.NORMAL) for _ in range(n)]\n",
    "        self.hard_nodes: set[int] = set()\n",
    "        self.recipes: set[int] = set()\n",
    "        self.devotee_recipes: dict[int, set[int]] = {}\n",
    "\n",
    "    def add_edge(self, u: int, v: int, weight: int):\n",
    "        self.nodes[u].adj.append(Edge(v, weight))\n",
    "        self.nodes[v].adj.append(Edge(u, weight))\n",
    "\n",
    "    def setas_hard(self, u: int):\n",
    "        self.nodes[u].type &= ~NodeType.NORMAL\n",
    "        self.nodes[u].type |= NodeType.HARD\n",
    "        self.hard_nodes.add(u)\n",
    "\n",
    "    def add_devotee(self, u: int, recipes: list[int]):\n",
    "        self.nodes[u].type &= ~NodeType.NORMAL\n",
    "        self.nodes[u].type |= NodeType.DEVOTEE\n",
    "        recipes_set = set(recipes)\n",
    "        self.devotee_recipes[u] = recipes_set\n",
    "        self.recipes = self.recipes.union(recipes_set)\n",
    "        for i in recipes:\n",
    "            self.nodes[u].type &= ~NodeType.NORMAL\n",
    "            self.nodes[i].type |= NodeType.RECIPE"
   ]
  },
  {
   "cell_type": "markdown",
   "metadata": {},
   "source": [
    "We will now describe a state our problem solving agent is in.  \n",
    "The `State` class contains fields showing the properties of a state.  \n",
    "The taken path to reach a state is also stored.\n",
    "\n",
    "Not all fields are used to check for the uniqueness of a state.  \n",
    "Only the following properties are used:\n",
    "\n",
    "- Agent's location in the graph (`pos`)\n",
    "- Agent's collected recipes (`done_recipes`)\n",
    "- The devotees our agent has satisfied (`done_devotees`)\n",
    "- The amount of time it has spent on the current hard node (`nodetime`)\n",
    "\n",
    "With the other fields being:\n",
    "\n",
    "- The path up to this state (`path`)\n",
    "- A map from all hard nodes to how many times they have been passed (`hard_nodes`)\n",
    "\n",
    "The function `is_goal` checks whether a state is a goal state. This is simply checking if all devotees are satisfied.  \n",
    "The function `initial_state` returns the agent's initial state in the graph.\n",
    "\n",
    "`transition_states` returns the next state our agent can be in based on its current state.  \n",
    "This checks if we are in a hard state and need to wait before we can continue.  \n",
    "It then checks all adjacent nodes of our agent and calculates what state it would be in assuming it went there.  \n",
    "A list of all possible next states is returned."
   ]
  },
  {
   "cell_type": "code",
   "execution_count": 3,
   "metadata": {},
   "outputs": [],
   "source": [
    "import copy\n",
    "\n",
    "\n",
    "@dataclass\n",
    "class State:\n",
    "    pos: int\n",
    "    path: list[int]\n",
    "    nodetime: int\n",
    "    hard_nodes: dict[int, int]\n",
    "    done_recipes: set[int]\n",
    "    done_devotees: set[int]\n",
    "\n",
    "    def _tuple(self):\n",
    "        return (self.pos,\n",
    "                self.nodetime,\n",
    "                tuple(self.done_recipes),\n",
    "                tuple(self.done_devotees))\n",
    "\n",
    "    def __hash__(self) -> int:\n",
    "        return hash(self._tuple())\n",
    "\n",
    "    def __eq__(self, other: Any) -> bool:\n",
    "        return isinstance(other, State) and (\n",
    "            self.pos == other.pos and\n",
    "            self.nodetime == other.nodetime and\n",
    "            self.done_recipes == other.done_recipes and\n",
    "            self.done_devotees == other.done_devotees\n",
    "        )\n",
    "\n",
    "\n",
    "def is_goal(graph: Graph, state: State) -> bool:\n",
    "    return len(graph.devotee_recipes) == len(state.done_devotees)\n",
    "\n",
    "\n",
    "def initial_state(graph: Graph, start: int) -> State:\n",
    "    return State(\n",
    "        pos=start,\n",
    "        path=[start],\n",
    "        nodetime=0,\n",
    "        hard_nodes={x: 0 for x in graph.hard_nodes},\n",
    "        done_recipes=set(),\n",
    "        done_devotees=set()\n",
    "    )\n",
    "\n",
    "\n",
    "def transition_states(graph: Graph, state: State) -> list[State]:\n",
    "    if NodeType.HARD in graph.nodes[state.pos].type:\n",
    "        if state.nodetime < state.hard_nodes[state.pos]:\n",
    "            new_state = copy.deepcopy(state)\n",
    "            new_state.nodetime += 1\n",
    "            new_state.path.append(state.pos)\n",
    "            return [new_state]\n",
    "        else:\n",
    "            state.hard_nodes[state.pos] += 1\n",
    "\n",
    "    new_states = []\n",
    "    for edge in graph.nodes[state.pos].adj:\n",
    "        neigh = edge.dst\n",
    "\n",
    "        new_state = copy.deepcopy(state)\n",
    "        new_state.pos = neigh\n",
    "        new_state.nodetime = 0\n",
    "        new_state.path.append(neigh)\n",
    "\n",
    "        if NodeType.RECIPE in graph.nodes[neigh].type:\n",
    "            new_state.done_recipes.add(neigh)\n",
    "\n",
    "        if NodeType.DEVOTEE in graph.nodes[neigh].type:\n",
    "            if graph.devotee_recipes[neigh].issubset(new_state.done_recipes):\n",
    "                new_state.done_devotees.add(neigh)\n",
    "\n",
    "        new_states.append(new_state)\n",
    "\n",
    "    return new_states"
   ]
  },
  {
   "attachments": {},
   "cell_type": "markdown",
   "metadata": {},
   "source": [
    "## Getting Input and Running the Algorithms"
   ]
  },
  {
   "cell_type": "markdown",
   "metadata": {},
   "source": [
    "The following function reads the text of the input provided in `input.txt` files and returns a `graph` and our `start` node."
   ]
  },
  {
   "cell_type": "code",
   "execution_count": 4,
   "metadata": {},
   "outputs": [],
   "source": [
    "def read_input(inp: list[str]) -> tuple[Graph, int]:\n",
    "    inpt = iter(inp)\n",
    "    n, m = map(int, next(inpt).split())\n",
    "    graph = Graph(n)\n",
    "    for i in range(m):\n",
    "        u, v = map(int, next(inpt).split())\n",
    "        graph.add_edge(u - 1, v - 1, 0)\n",
    "\n",
    "    _ = int(next(inpt))\n",
    "    hard = map(int, next(inpt).split())\n",
    "    for i in hard:\n",
    "        graph.setas_hard(i - 1)\n",
    "\n",
    "    s = int(next(inpt))\n",
    "    for i in range(s):\n",
    "        p, _, *recipes = map(int, next(inpt).split())\n",
    "        graph.add_devotee(p - 1, [x - 1 for x in recipes])\n",
    "\n",
    "    start = int(next(inpt)) - 1\n",
    "    return (graph, start)"
   ]
  },
  {
   "cell_type": "markdown",
   "metadata": {},
   "source": [
    "The `read_file` function will open an input file and read its content using `read_input`.  \n",
    "This function will add the `graph` and `start` variables to the global namespace.\n",
    "\n",
    "The `unique_consecutive` function can be used to remove duplicate adjacent items in a list, in case the printed path should not have duplicate nodes when stuck in a hard node."
   ]
  },
  {
   "cell_type": "code",
   "execution_count": 5,
   "metadata": {},
   "outputs": [],
   "source": [
    "import itertools\n",
    "\n",
    "\n",
    "def read_file(filename: str):\n",
    "    global graph, start\n",
    "\n",
    "    with open(filename, 'r', encoding='utf-8') as f:\n",
    "        inp = [x.rstrip('\\n') for x in f]\n",
    "\n",
    "    graph, start = read_input(inp)\n",
    "\n",
    "\n",
    "def unique_consecutive(lst: list[Any]) -> list[Any]:\n",
    "    return [i for i, _ in itertools.groupby(lst)]"
   ]
  },
  {
   "cell_type": "markdown",
   "metadata": {},
   "source": [
    "The `run` function will run a search algorithm on the global `graph` variable.  \n",
    "The search algorithm will return the goal state and the number of visited states.  \n",
    "Here, the path to the goal state, its cost, and the count of visited states is printed.  \n",
    "Additionally, the algorithm is ran `TEST_REPEATS` times and the average time to run the algorithm is printed."
   ]
  },
  {
   "cell_type": "code",
   "execution_count": 6,
   "metadata": {},
   "outputs": [],
   "source": [
    "import time\n",
    "\n",
    "TEST_REPEATS = 3\n",
    "\n",
    "\n",
    "def run(search_alg: Callable[[Graph, State], tuple[State, int]]):\n",
    "    time_start = time.time()\n",
    "    for _ in range(TEST_REPEATS):\n",
    "        goal_state, num_visited = search_alg(graph, start)\n",
    "    time_elapsed = (time.time() - time_start) / TEST_REPEATS\n",
    "\n",
    "    if goal_state is None:\n",
    "        print('No solution')\n",
    "    else:\n",
    "        print(*[x + 1 for x in goal_state.path], sep=' -> ')\n",
    "        print('Path cost:', len(goal_state.path) - 1)\n",
    "        print('Visited states:', num_visited)\n",
    "        print('Average time:', time_elapsed)"
   ]
  },
  {
   "attachments": {},
   "cell_type": "markdown",
   "metadata": {},
   "source": [
    "## Breadth-First Search"
   ]
  },
  {
   "cell_type": "markdown",
   "metadata": {},
   "source": [
    "The following is an implementation of **breadth-first search (BFS)**.  \n",
    "The frontier list is a queue of states and our explored states are stored in a set.  \n",
    "The goal check is done after the state is out of the queue."
   ]
  },
  {
   "cell_type": "code",
   "execution_count": 7,
   "metadata": {},
   "outputs": [],
   "source": [
    "def BFS(graph: Graph, start: int) -> tuple[State, int]:\n",
    "    state = initial_state(graph, start)\n",
    "    if is_goal(graph, state):\n",
    "        return state\n",
    "\n",
    "    frontier: list[State] = []\n",
    "    visited: set[State] = set()\n",
    "    frontier.append(state)\n",
    "    \n",
    "    while frontier:\n",
    "        s = frontier.pop(0)\n",
    "        if is_goal(graph, s):\n",
    "            return s, len(visited)\n",
    "\n",
    "        for next_state in transition_states(graph, s):\n",
    "            if next_state in visited:\n",
    "                continue\n",
    "            if next_state in frontier:\n",
    "                continue\n",
    "            frontier.append(next_state)\n",
    "\n",
    "        visited.add(s)\n",
    "\n",
    "    return None, None"
   ]
  },
  {
   "cell_type": "code",
   "execution_count": 8,
   "metadata": {},
   "outputs": [
    {
     "name": "stdout",
     "output_type": "stream",
     "text": [
      "--- File: Inputs/input_0.txt ---\n",
      "1 -> 3 -> 4 -> 5 -> 7 -> 10 -> 11 -> 9 -> 8\n",
      "Path cost: 8\n",
      "Visited states: 34\n",
      "Average time: 0.0019985834757486978\n"
     ]
    }
   ],
   "source": [
    "read_file(INPUT)\n",
    "print(f'--- File: {INPUT} ---')\n",
    "run(BFS)"
   ]
  },
  {
   "attachments": {},
   "cell_type": "markdown",
   "metadata": {},
   "source": [
    "## Iterative-Deepening Search"
   ]
  },
  {
   "cell_type": "markdown",
   "metadata": {},
   "source": [
    "The following is an implementation of **iterative-deepening search (IDS)**.  \n",
    "IDS repeatedly uses *depth-limited search (DLS)* to run *depth-first search (DFS)* limited to a certain depth.  \n",
    "The depth increases by one every loop until the goal state is found.\n",
    "\n",
    "Here, DLS is implemented recursively."
   ]
  },
  {
   "cell_type": "code",
   "execution_count": 9,
   "metadata": {},
   "outputs": [],
   "source": [
    "def DLS_rec_impl(graph: Graph, state: State, visited: set[State], limit: int, num_visited: int) -> tuple[State, int]:\n",
    "    if limit <= 0:\n",
    "        return None, num_visited\n",
    "\n",
    "    if is_goal(graph, state):\n",
    "        return state, num_visited\n",
    "\n",
    "    for next_state in transition_states(graph, state):\n",
    "        if next_state in visited:\n",
    "            continue\n",
    "\n",
    "        visited.add(next_state)\n",
    "        num_visited += 1\n",
    "\n",
    "        res, num_visited = DLS_rec_impl(graph, next_state, visited, limit - 1, num_visited)\n",
    "        visited.remove(next_state)\n",
    "\n",
    "        if res is not None:\n",
    "            return res, num_visited\n",
    "\n",
    "    return None, num_visited\n",
    "\n",
    "\n",
    "def DLS_rec(graph: Graph, start: int, depth: int) -> tuple[State, int]:\n",
    "    state = initial_state(graph, start)\n",
    "    visited: set[State] = set()\n",
    "    visited.add(state)\n",
    "    return DLS_rec_impl(graph, state, visited, depth, 0)\n",
    "\n",
    "\n",
    "def IDS(graph: Graph, start: int, max_depth: int = None) -> tuple[State, int]:\n",
    "    depth = 1\n",
    "    all_num_visited = 0\n",
    "    while True:\n",
    "        if max_depth is not None and max_depth < depth:\n",
    "            return None\n",
    "\n",
    "        goal_state, num_visited = DLS_rec(graph, start, depth)\n",
    "        all_num_visited += num_visited\n",
    "        if goal_state is not None:\n",
    "            return goal_state, all_num_visited\n",
    "        depth += 1"
   ]
  },
  {
   "cell_type": "code",
   "execution_count": 10,
   "metadata": {},
   "outputs": [
    {
     "name": "stdout",
     "output_type": "stream",
     "text": [
      "--- File: Inputs/input_0.txt ---\n",
      "1 -> 3 -> 4 -> 5 -> 7 -> 10 -> 11 -> 9 -> 8\n",
      "Path cost: 8\n",
      "Visited states: 922\n",
      "Average time: 0.026817480723063152\n"
     ]
    }
   ],
   "source": [
    "read_file(INPUT)\n",
    "print(f'--- File: {INPUT} ---')\n",
    "run(IDS)"
   ]
  },
  {
   "attachments": {},
   "cell_type": "markdown",
   "metadata": {},
   "source": [
    "## (Weighted) A*"
   ]
  },
  {
   "cell_type": "markdown",
   "metadata": {},
   "source": [
    "To implement A* search, a heuristic function is required.  \n",
    "The function returns an int estimating the distance a state has until reaching the goal state.\n",
    "\n",
    "The chosen heuristic here is the sum of recipes not yet gathered, and the devotees who have not yet gotten their food. (only unique nodes)  \n",
    "This heuristic is consistent. A consistent heuristic is a heuristic that does not over-estimate the cost between 2 states.  \n",
    "\n",
    "Take 2 states A and B, where A is a parent of B.  \n",
    "Consider *h(A) = a* and *h(B) = b* which are the sum of unique nodes of not yet gathered recipes and devotees.  \n",
    "To reach B from A, at least *a-b* nodes must be passed.  \n",
    "Since every edge costs 1, **cost(A to B) >= a - b** and the heuristic is consistent."
   ]
  },
  {
   "cell_type": "code",
   "execution_count": 11,
   "metadata": {},
   "outputs": [],
   "source": [
    "def heuristic(state: State) -> int:\n",
    "    notdone_recipes = graph.recipes.difference(state.done_recipes)\n",
    "    notdone_devotees = [k for k in graph.devotee_recipes if k not in state.done_devotees]\n",
    "    return len(notdone_recipes.union(notdone_devotees))"
   ]
  },
  {
   "cell_type": "markdown",
   "metadata": {},
   "source": [
    "A binary heap class is implemented because Python's standard library heap does not support comparison predicates."
   ]
  },
  {
   "cell_type": "code",
   "execution_count": 12,
   "metadata": {},
   "outputs": [],
   "source": [
    "import heapq\n",
    "\n",
    "\n",
    "class MinHeap:\n",
    "    def __init__(self, priority_func: Callable[[Any], int] = None):\n",
    "        self._data: list[tuple[int, int, Any]] = []\n",
    "        self._counter = itertools.count()\n",
    "        self._func = None\n",
    "        if callable(priority_func):\n",
    "            self._func = priority_func\n",
    "\n",
    "    def push(self, value: Any, priority: int = None):\n",
    "        if priority is None and self._func is not None:\n",
    "            priority = self._func(value)\n",
    "\n",
    "        elem = (priority, next(self._counter), value)\n",
    "        heapq.heappush(self._data, elem)\n",
    "\n",
    "    def pop(self) -> Any:\n",
    "        return heapq.heappop(self._data)[-1]\n",
    "\n",
    "    def top(self) -> Any:\n",
    "        return self._data[0][-1]\n",
    "\n",
    "    def __bool__(self):\n",
    "        return bool(self._data)\n",
    "\n",
    "    def __iter__(self):\n",
    "        for i in self._data:\n",
    "            yield i[-1]"
   ]
  },
  {
   "cell_type": "markdown",
   "metadata": {},
   "source": [
    "The following is an implementation of **A⋆ Search**.  \n",
    "This is essentially the same as BFS, but instead of a normal queue, a priority queue is used.  \n",
    "The heap is sorted by a heuristic function plus the real cost to reach that state.\n",
    "\n",
    "Weighted A* is just multiplying the heuristic value by `alpha`. So for alpha=1, it is the same as A*.  \n",
    "Using an alpha value too high may not keep optimality.  \n",
    "Because a consistent heuristic is always lower than the real cost, by multiplying it by an alpha, we hope to reach values closer to the real cost but this may break its consistency and therefore not return the optimal answer."
   ]
  },
  {
   "cell_type": "code",
   "execution_count": 13,
   "metadata": {},
   "outputs": [],
   "source": [
    "def AStar(graph: Graph, start: int, alpha: int = 1) -> tuple[State, int]:\n",
    "    state = initial_state(graph, start)\n",
    "    if is_goal(graph, state):\n",
    "        return state\n",
    "\n",
    "    def h(state: State) -> int:\n",
    "        return alpha * heuristic(state) + len(state.path)\n",
    "\n",
    "    frontier = MinHeap(h)\n",
    "    visited: set[State] = set()\n",
    "    frontier.push(state)\n",
    "\n",
    "    while frontier:\n",
    "        s = frontier.pop()\n",
    "        if is_goal(graph, s):\n",
    "            return s, len(visited)\n",
    "\n",
    "        for next_state in transition_states(graph, s):\n",
    "            if next_state in visited:\n",
    "                continue\n",
    "            if next_state in frontier:\n",
    "                continue\n",
    "            frontier.push(next_state)\n",
    "\n",
    "        visited.add(s)\n",
    "\n",
    "    return None, None"
   ]
  },
  {
   "cell_type": "code",
   "execution_count": 14,
   "metadata": {},
   "outputs": [
    {
     "name": "stdout",
     "output_type": "stream",
     "text": [
      "--- File: Inputs/input_0.txt ---\n",
      "1 -> 3 -> 4 -> 5 -> 7 -> 10 -> 11 -> 9 -> 8\n",
      "Path cost: 8\n",
      "Visited states: 31\n",
      "Average time: 0.0016657511393229167\n",
      "1 -> 3 -> 4 -> 5 -> 7 -> 10 -> 11 -> 9 -> 8\n",
      "Path cost: 8\n",
      "Visited states: 24\n",
      "Average time: 0.0013333956400553386\n",
      "1 -> 3 -> 4 -> 5 -> 7 -> 10 -> 11 -> 9 -> 8\n",
      "Path cost: 8\n",
      "Visited states: 14\n",
      "Average time: 0.0006658236185709635\n"
     ]
    }
   ],
   "source": [
    "from functools import partial\n",
    "\n",
    "read_file(INPUT)\n",
    "print(f'--- File: {INPUT} ---')\n",
    "run(AStar)\n",
    "run(partial(AStar, alpha=1.2))\n",
    "run(partial(AStar, alpha=5))"
   ]
  },
  {
   "attachments": {},
   "cell_type": "markdown",
   "metadata": {},
   "source": [
    "## Comparison"
   ]
  },
  {
   "cell_type": "markdown",
   "metadata": {},
   "source": [
    "Now we will run all tests on all algorithms:"
   ]
  },
  {
   "cell_type": "code",
   "execution_count": 15,
   "metadata": {},
   "outputs": [
    {
     "name": "stdout",
     "output_type": "stream",
     "text": [
      "=-=-=-=-=-=-=-= Inputs/input_0.txt =-=-=-=-=-=-=-=\n",
      "\n",
      "--- BFS ---\n",
      "1 -> 3 -> 4 -> 5 -> 7 -> 10 -> 11 -> 9 -> 8\n",
      "Path cost: 8\n",
      "Visited states: 34\n",
      "Average time: 0.0019981861114501953\n",
      "\n",
      "--- IDS ---\n",
      "1 -> 3 -> 4 -> 5 -> 7 -> 10 -> 11 -> 9 -> 8\n",
      "Path cost: 8\n",
      "Visited states: 922\n",
      "Average time: 0.026388009389241535\n",
      "\n",
      "--- A* ---\n",
      "1 -> 3 -> 4 -> 5 -> 7 -> 10 -> 11 -> 9 -> 8\n",
      "Path cost: 8\n",
      "Visited states: 31\n",
      "Average time: 0.0016672611236572266\n",
      "\n",
      "--- A* alpha=1.2 ---\n",
      "1 -> 3 -> 4 -> 5 -> 7 -> 10 -> 11 -> 9 -> 8\n",
      "Path cost: 8\n",
      "Visited states: 24\n",
      "Average time: 0.0010000069936116536\n",
      "\n",
      "--- A* alpha=5 ---\n",
      "1 -> 3 -> 4 -> 5 -> 7 -> 10 -> 11 -> 9 -> 8\n",
      "Path cost: 8\n",
      "Visited states: 14\n",
      "Average time: 0.0010001659393310547\n",
      "\n",
      "\n",
      "=-=-=-=-=-=-=-= Inputs/input_1.txt =-=-=-=-=-=-=-=\n",
      "\n",
      "--- BFS ---\n",
      "9 -> 10 -> 9 -> 4 -> 12 -> 3 -> 7 -> 5 -> 8\n",
      "Path cost: 8\n",
      "Visited states: 89\n",
      "Average time: 0.004666566848754883\n",
      "\n",
      "--- IDS ---\n",
      "9 -> 10 -> 9 -> 4 -> 12 -> 3 -> 7 -> 5 -> 8\n",
      "Path cost: 8\n",
      "Visited states: 2143\n",
      "Average time: 0.06466762224833171\n",
      "\n",
      "--- A* ---\n",
      "9 -> 10 -> 9 -> 4 -> 12 -> 3 -> 7 -> 5 -> 8\n",
      "Path cost: 8\n",
      "Visited states: 48\n",
      "Average time: 0.0029990673065185547\n",
      "\n",
      "--- A* alpha=1.2 ---\n",
      "9 -> 10 -> 9 -> 4 -> 12 -> 3 -> 7 -> 5 -> 8\n",
      "Path cost: 8\n",
      "Visited states: 31\n",
      "Average time: 0.00200041135152181\n",
      "\n",
      "--- A* alpha=5 ---\n",
      "9 -> 4 -> 2 -> 10 -> 2 -> 11 -> 3 -> 7 -> 5 -> 8\n",
      "Path cost: 9\n",
      "Visited states: 14\n",
      "Average time: 0.0006659030914306641\n",
      "\n",
      "\n",
      "=-=-=-=-=-=-=-= Inputs/input_2.txt =-=-=-=-=-=-=-=\n",
      "\n",
      "--- BFS ---\n",
      "13 -> 11 -> 10 -> 3 -> 2 -> 6 -> 12 -> 5 -> 9 -> 4 -> 1 -> 13 -> 11 -> 10\n",
      "Path cost: 13\n",
      "Visited states: 957\n",
      "Average time: 0.06199932098388672\n",
      "\n",
      "--- IDS ---\n",
      "13 -> 11 -> 10 -> 3 -> 2 -> 6 -> 12 -> 5 -> 9 -> 4 -> 1 -> 13 -> 11 -> 10\n",
      "Path cost: 13\n",
      "Visited states: 37843\n",
      "Average time: 1.118622859319051\n",
      "\n",
      "--- A* ---\n",
      "13 -> 11 -> 10 -> 3 -> 2 -> 6 -> 12 -> 5 -> 9 -> 4 -> 1 -> 13 -> 11 -> 10\n",
      "Path cost: 13\n",
      "Visited states: 453\n",
      "Average time: 0.03672933578491211\n",
      "\n",
      "--- A* alpha=1.2 ---\n",
      "13 -> 1 -> 4 -> 9 -> 5 -> 12 -> 6 -> 2 -> 3 -> 10 -> 11 -> 13 -> 1 -> 1 -> 4\n",
      "Path cost: 14\n",
      "Visited states: 389\n",
      "Average time: 0.04000004132588705\n",
      "\n",
      "--- A* alpha=5 ---\n",
      "13 -> 1 -> 4 -> 9 -> 5 -> 12 -> 6 -> 2 -> 3 -> 10 -> 11 -> 13 -> 1 -> 1 -> 4\n",
      "Path cost: 14\n",
      "Visited states: 22\n",
      "Average time: 0.001333316167195638\n",
      "\n",
      "\n"
     ]
    }
   ],
   "source": [
    "test_cases = ['Inputs/input_0.txt', 'Inputs/input_1.txt', 'Inputs/input_2.txt']\n",
    "\n",
    "for test in test_cases:\n",
    "    read_file(test)\n",
    "    print(f'=-=-=-=-=-=-=-= {test} =-=-=-=-=-=-=-=')\n",
    "    print('\\n--- BFS ---')\n",
    "    run(BFS)\n",
    "    print('\\n--- IDS ---')\n",
    "    run(IDS)\n",
    "    print('\\n--- A* ---')\n",
    "    run(AStar)\n",
    "    print('\\n--- A* alpha=1.2 ---')\n",
    "    run(partial(AStar, alpha=1.2))\n",
    "    print('\\n--- A* alpha=5 ---')\n",
    "    run(partial(AStar, alpha=5))\n",
    "    print('\\n')"
   ]
  },
  {
   "cell_type": "code",
   "execution_count": 16,
   "metadata": {},
   "outputs": [
    {
     "name": "stdout",
     "output_type": "stream",
     "text": [
      "=-=-=-=-=-=-=-= Inputs/input_3.txt =-=-=-=-=-=-=-=\n",
      "\n",
      "--- BFS ---\n",
      "28 -> 19 -> 13 -> 3 -> 11 -> 24 -> 9 -> 23 -> 28 -> 23 -> 5 -> 7 -> 29\n",
      "Path cost: 12\n",
      "Visited states: 4595\n",
      "Average time: 1.110090176264445\n",
      "\n",
      "--- A* ---\n",
      "28 -> 19 -> 13 -> 3 -> 11 -> 24 -> 9 -> 23 -> 5 -> 7 -> 29 -> 22 -> 28\n",
      "Path cost: 12\n",
      "Visited states: 1231\n",
      "Average time: 0.5080259641011556\n",
      "\n",
      "--- A* alpha=1.2 ---\n",
      "28 -> 23 -> 9 -> 24 -> 11 -> 3 -> 13 -> 19 -> 28 -> 23 -> 5 -> 7 -> 29\n",
      "Path cost: 12\n",
      "Visited states: 288\n",
      "Average time: 0.12134480476379395\n",
      "\n",
      "--- A* alpha=5 ---\n",
      "28 -> 19 -> 3 -> 11 -> 24 -> 9 -> 23 -> 5 -> 7 -> 29 -> 20 -> 13 -> 19 -> 28\n",
      "Path cost: 13\n",
      "Visited states: 15\n",
      "Average time: 0.0029999415079752603\n",
      "\n",
      "\n",
      "=-=-=-=-=-=-=-= Inputs/input_4.txt =-=-=-=-=-=-=-=\n",
      "\n",
      "--- BFS ---\n",
      "40 -> 42 -> 38 -> 24 -> 31 -> 45 -> 30 -> 48 -> 41 -> 18 -> 1 -> 19 -> 43 -> 49 -> 47 -> 49 -> 9 -> 34 -> 25 -> 50 -> 12 -> 16\n",
      "Path cost: 21\n",
      "Visited states: 4850\n",
      "Average time: 0.5980412165323893\n",
      "\n",
      "--- A* ---\n",
      "40 -> 42 -> 38 -> 24 -> 31 -> 45 -> 30 -> 48 -> 41 -> 18 -> 1 -> 19 -> 43 -> 49 -> 47 -> 49 -> 9 -> 34 -> 25 -> 50 -> 12 -> 16\n",
      "Path cost: 21\n",
      "Visited states: 3438\n",
      "Average time: 0.562963088353475\n",
      "\n",
      "--- A* alpha=1.2 ---\n",
      "40 -> 42 -> 38 -> 24 -> 31 -> 45 -> 30 -> 48 -> 41 -> 18 -> 1 -> 19 -> 43 -> 49 -> 47 -> 49 -> 9 -> 34 -> 25 -> 50 -> 12 -> 16\n",
      "Path cost: 21\n",
      "Visited states: 2768\n",
      "Average time: 0.5059545834859213\n",
      "\n",
      "--- A* alpha=5 ---\n",
      "40 -> 42 -> 38 -> 24 -> 31 -> 15 -> 12 -> 16 -> 12 -> 12 -> 49 -> 9 -> 49 -> 47 -> 49 -> 9 -> 34 -> 25 -> 50 -> 10 -> 41 -> 48 -> 41 -> 18 -> 1 -> 19\n",
      "Path cost: 25\n",
      "Visited states: 81\n",
      "Average time: 0.008666038513183594\n",
      "\n",
      "\n"
     ]
    }
   ],
   "source": [
    "test_cases_noids = ['Inputs/input_3.txt', 'Inputs/input_4.txt']\n",
    "\n",
    "for test in test_cases_noids:\n",
    "    read_file(test)\n",
    "    print(f'=-=-=-=-=-=-=-= {test} =-=-=-=-=-=-=-=')\n",
    "    print('\\n--- BFS ---')\n",
    "    run(BFS)\n",
    "    print('\\n--- A* ---')\n",
    "    run(AStar)\n",
    "    print('\\n--- A* alpha=1.2 ---')\n",
    "    run(partial(AStar, alpha=1.2))\n",
    "    print('\\n--- A* alpha=5 ---')\n",
    "    run(partial(AStar, alpha=5))\n",
    "    print('\\n')"
   ]
  },
  {
   "attachments": {},
   "cell_type": "markdown",
   "metadata": {},
   "source": [
    "input_0.txt:\n",
    "\n",
    "| Alg | Cost | Visited States | Run Time |\n",
    "| :-: | :--: | :------------: | :------: |\n",
    "| BFS | 8    | 34             | 0.0019   |\n",
    "| IDS | 8    | 922            | 0.0263   |\n",
    "| A*  | 8    | 31             | 0.0016   |\n",
    "| A* Alpha=1.2 | 8 | 24       | 0.0010   |\n",
    "| A* Alpha=5   | 8 | 14       | 0.0010   |"
   ]
  },
  {
   "attachments": {},
   "cell_type": "markdown",
   "metadata": {},
   "source": [
    "input_1.txt\n",
    "\n",
    "| Alg | Cost | Visited States | Run Time |\n",
    "| :-: | :--: | :------------: | :------: |\n",
    "| BFS | 8    | 89             | 0.0046   |\n",
    "| IDS | 8    | 2143           | 0.0646   |\n",
    "| A*  | 8    | 48             | 0.0029   |\n",
    "| A* Alpha=1.2 | 8 | 31       | 0.0020   |\n",
    "| A* Alpha=5   | 9 | 14       | 0.0006   |"
   ]
  },
  {
   "attachments": {},
   "cell_type": "markdown",
   "metadata": {},
   "source": [
    "input_2.txt\n",
    "\n",
    "| Alg | Cost | Visited States | Run Time |\n",
    "| :-: | :--: | :------------: | :------: |\n",
    "| BFS | 13   | 957            | 0.0619   |\n",
    "| IDS | 13   | 37843          | 1.1186   |\n",
    "| A*  | 13   | 453            | 0.0367   |\n",
    "| A* Alpha=1.2 | 14 | 389     | 0.0328   |\n",
    "| A* Alpha=5   | 14 | 22      | 0.0013   |"
   ]
  },
  {
   "attachments": {},
   "cell_type": "markdown",
   "metadata": {},
   "source": [
    "input_3.txt\n",
    "\n",
    "| Alg | Cost | Visited States | Run Time |\n",
    "| :-: | :--: | :------------: | :------: |\n",
    "| BFS | 12   | 4595           | 1.1100   |\n",
    "| IDS | ---  | ---            | ---      |\n",
    "| A*  | 12   | 1231           | 0.5080   |\n",
    "| A* Alpha=1.2 | 12 | 288     | 0.1213   |\n",
    "| A* Alpha=5   | 13 | 15      | 0.0029   |"
   ]
  },
  {
   "attachments": {},
   "cell_type": "markdown",
   "metadata": {},
   "source": [
    "input_4.txt\n",
    "\n",
    "| Alg | Cost | Visited States | Run Time |\n",
    "| :-: | :--: | :------------: | :------: |\n",
    "| BFS | 21   | 4850           | 0.5980   |\n",
    "| IDS | ---  | ---            | ---      |\n",
    "| A*  | 21   | 3438           | 0.5629   |\n",
    "| A* Alpha=1.2 | 21 | 2768    | 0.5059   |\n",
    "| A* Alpha=5   | 25 | 81      | 0.0086   |"
   ]
  },
  {
   "cell_type": "markdown",
   "metadata": {},
   "source": [
    "BFS and IDS will always give us the optimal solution.  \n",
    "A* with a consistent heuristic will also give the optimal solution.  \n",
    "But weighted A* may not always give us the optimal solution, but if it does, it is faster than the rest of the algorithms.\n",
    "\n",
    "As a general speed comparison: Weighted A* > A* > BFS > IDS  \n",
    "Whilst IDS is the slowest algorithm, it has the lowest memory footprint.  \n",
    "(IDS is polynomial while BFS and A* are exponential)"
   ]
  }
 ],
 "metadata": {
  "kernelspec": {
   "display_name": "Python 3.11.0 64-bit",
   "language": "python",
   "name": "python3"
  },
  "language_info": {
   "codemirror_mode": {
    "name": "ipython",
    "version": 3
   },
   "file_extension": ".py",
   "mimetype": "text/x-python",
   "name": "python",
   "nbconvert_exporter": "python",
   "pygments_lexer": "ipython3",
   "version": "3.11.0"
  },
  "orig_nbformat": 4,
  "vscode": {
   "interpreter": {
    "hash": "c261aea317cc0286b3b3261fbba9abdec21eaa57589985bb7a274bf54d6cc0a7"
   }
  }
 },
 "nbformat": 4,
 "nbformat_minor": 2
}
