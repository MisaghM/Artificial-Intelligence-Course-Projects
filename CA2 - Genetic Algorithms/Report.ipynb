{
 "cells": [
  {
   "attachments": {},
   "cell_type": "markdown",
   "metadata": {},
   "source": [
    "# Misagh Mohaghegh - 810199484"
   ]
  },
  {
   "attachments": {},
   "cell_type": "markdown",
   "metadata": {},
   "source": [
    "Artificial Intelligence CA2: *Genetics*  \n",
    "In this assignment, the equation problem is solved using a genetic algorithm."
   ]
  },
  {
   "attachments": {},
   "cell_type": "markdown",
   "metadata": {},
   "source": [
    "## Genetic Representation"
   ]
  },
  {
   "attachments": {},
   "cell_type": "markdown",
   "metadata": {},
   "source": [
    "Each character (operands and operators) is considered a gene.  \n",
    "A chromosome consists of n genes where n is the length of the given equation.  \n",
    "In a chromosome, operator genes are placed in between operand genes."
   ]
  },
  {
   "attachments": {},
   "cell_type": "markdown",
   "metadata": {},
   "source": [
    "The `Input` class contains our input fields which are:\n",
    "\n",
    "- `eq_len`: The equation length (operands + operators)\n",
    "- `operands`: The list of operands\n",
    "- `operators`: The list of operators\n",
    "- `goal`: The result of the equation\n",
    " \n",
    "The `read_input` function is provided for reading the input and returning a `Input` instance, but it can be entered manually as well."
   ]
  },
  {
   "cell_type": "code",
   "execution_count": 15,
   "metadata": {},
   "outputs": [],
   "source": [
    "import random\n",
    "import bisect\n",
    "import copy\n",
    "from typing import NamedTuple\n",
    "from dataclasses import dataclass\n",
    "from itertools import accumulate\n",
    "\n",
    "\n",
    "class Input(NamedTuple):\n",
    "    eq_len: int\n",
    "    operands: list[int]\n",
    "    operators: list[str]\n",
    "    goal: int\n",
    "\n",
    "\n",
    "def read_input() -> Input:\n",
    "    eq_len = int(input())\n",
    "    operands = input().split()\n",
    "    operators = input().split()\n",
    "    goal = int(input())\n",
    "    return Input(eq_len, operands, operators, goal)"
   ]
  },
  {
   "attachments": {},
   "cell_type": "markdown",
   "metadata": {},
   "source": [
    "The `Consts` class contains the problem solving parameters.\n",
    "\n",
    "- `prob_xover`: Probability of a crossover happening between two chromosomes.\n",
    "- `prob_mutate`: Probability of a mutation happening in a chromosome.\n",
    "- `prob_carry`: The percentage of the best chromosomes that will be carried directly to the next generation.\n",
    "- `population_size`: The count of all chromosomes which is called the population.\n",
    "- `max_generations`: The maximum number of generations that the algorithm will explore to find a solution."
   ]
  },
  {
   "cell_type": "code",
   "execution_count": 16,
   "metadata": {},
   "outputs": [],
   "source": [
    "@dataclass\n",
    "class Consts:\n",
    "    prob_xover: float\n",
    "    prob_mutate: float\n",
    "    prob_carry: float\n",
    "    population_size: int\n",
    "    max_generations: int\n",
    "\n",
    "Chromosome = list[str]"
   ]
  },
  {
   "attachments": {},
   "cell_type": "markdown",
   "metadata": {},
   "source": [
    "## Initial Population"
   ]
  },
  {
   "attachments": {},
   "cell_type": "markdown",
   "metadata": {},
   "source": [
    "The `gen_population` function takes our input and creates `size` chromosomes.  \n",
    "We will use this to get our initial population."
   ]
  },
  {
   "cell_type": "code",
   "execution_count": 17,
   "metadata": {},
   "outputs": [],
   "source": [
    "def gen_population(inp: Input, size: int) -> list[Chromosome]:\n",
    "    population: list[Chromosome] = [None]*size\n",
    "    for i in range(size):\n",
    "        chromo = [None]*inp.eq_len\n",
    "        chromo[0::2] = [random.choice(inp.operands) for _ in chromo[0::2]]\n",
    "        chromo[1::2] = [random.choice(inp.operators) for _ in chromo[1::2]]\n",
    "        population[i] = chromo\n",
    "    return population\n"
   ]
  },
  {
   "attachments": {},
   "cell_type": "markdown",
   "metadata": {},
   "source": [
    "## Fitness Function"
   ]
  },
  {
   "attachments": {},
   "cell_type": "markdown",
   "metadata": {},
   "source": [
    "We will define the fitness of a chromosome as follows:  \n",
    "\n",
    "$$ \\frac{1}{1 + |chromosome - goal|}$$\n",
    "\n",
    "In which chromosome is the result of the mathematical expression, and goal is the result we are seeking.  \n",
    "Basically, the closer the result is to the goal, the higher the fitness will be.  \n",
    "The fitness is between 0 and 1. The fitness of 1 means that the chromosome is our solution.\n"
   ]
  },
  {
   "cell_type": "code",
   "execution_count": 18,
   "metadata": {},
   "outputs": [],
   "source": [
    "def calc_fitness(inp: Input, chromo: Chromosome) -> float:\n",
    "    string = ''.join(chromo)\n",
    "    number = eval(string, {'__builtins__': None})\n",
    "    difference = abs(number - inp.goal)\n",
    "    fitness = 1 / (1 + difference)\n",
    "    return fitness"
   ]
  },
  {
   "attachments": {},
   "cell_type": "markdown",
   "metadata": {},
   "source": [
    "## Genetic Selection and Operations"
   ]
  },
  {
   "attachments": {},
   "cell_type": "markdown",
   "metadata": {},
   "source": [
    "In the next section, 4 functions are defined with each being a step in reaching the next generation.\n",
    "\n",
    "- `create_carried_pool`:  \n",
    "  Here, the population is sorted by its fitness and `carry_count` of the best chromosomes are returned.\n",
    "\n",
    "- `create_mating_pool`:  \n",
    "  Here, a new population is generated which has the same size as the previous, but each member is chosen by a fortune wheel where the better chromosomes have a higher chance of winning.  \n",
    "  This is implemented with a cumulative sum on the fitness probabilities.\n",
    "\n",
    "- `create_crossover_pool`:  \n",
    "  Here, a modified population is returned in which some pairs of chromosomes, with the chance of `prob_xover`, have been crossed over using 1-point crossover.  \n",
    "  2-point crossover can be used instead and is commented.\n",
    "  \n",
    "- `create_mutate_pool`:  \n",
    "  Here, a modified population is returned in which some chromosomes, with the chance of `prob_mutate`, have had a single gene of them mutated to a random operand or operator, based on what the type of the selected gene is."
   ]
  },
  {
   "cell_type": "code",
   "execution_count": 19,
   "metadata": {},
   "outputs": [],
   "source": [
    "def create_carried_pool(population: list[Chromosome],\n",
    "                        fitnesses: list[float],\n",
    "                        carry_count: int) -> list[Chromosome]:\n",
    "    sorted_population = sorted(zip(fitnesses, population), reverse=True, key=lambda pair: pair[0])\n",
    "    carry = [pair[1] for pair in sorted_population[:carry_count]]\n",
    "    return copy.deepcopy(carry)\n",
    "\n",
    "\n",
    "def create_mating_pool(population: list[Chromosome], fitnesses: list[float]) -> list[Chromosome]:\n",
    "    sum_fitnesses = sum(fitnesses)\n",
    "    prob = [f / sum_fitnesses for f in fitnesses]\n",
    "    cumulative_sum = list(accumulate(prob))\n",
    "\n",
    "    mating_pool: list[Chromosome] = []\n",
    "    for _ in population:\n",
    "        rand = random.random()\n",
    "        idx = bisect.bisect_left(cumulative_sum, rand)\n",
    "        mating_pool.append(population[idx])\n",
    "    return copy.deepcopy(mating_pool)\n",
    "\n",
    "\n",
    "def create_crossover_pool(population: list[Chromosome], prob_xover: float) -> list[Chromosome]:\n",
    "    xover_pool = copy.deepcopy(population)\n",
    "    for i in range(0, len(xover_pool), 2):\n",
    "        if i == len(xover_pool) - 1:\n",
    "            break\n",
    "        if random.random() < prob_xover:\n",
    "            point = random.randint(0, len(xover_pool[i]))\n",
    "            xover_pool[i][:point], xover_pool[i+1][:point] = xover_pool[i+1][:point], xover_pool[i][:point]\n",
    "            # 2-point crossover\n",
    "            # a, b = sorted(random.sample(range(len(xover_pool[i]) + 1), 2))\n",
    "            # swap_tmp = xover_pool[i][a:b]\n",
    "            # xover_pool[i][a:b] = xover_pool[i + 1][a:b]\n",
    "            # xover_pool[i + 1][a:b] = swap_tmp\n",
    "\n",
    "    return xover_pool\n",
    "\n",
    "\n",
    "def create_mutated_pool(population: list[Chromosome], prob_mutate: float, inp: Input) -> list[Chromosome]:\n",
    "    mutated_pool = copy.deepcopy(population)\n",
    "    for chromo in mutated_pool:\n",
    "        if random.random() < prob_mutate:\n",
    "            idx = random.randrange(len(chromo))\n",
    "            chromo[idx] = random.choice(inp.operators) if idx % 2 else random.choice(inp.operands)\n",
    "    return mutated_pool"
   ]
  },
  {
   "attachments": {},
   "cell_type": "markdown",
   "metadata": {},
   "source": [
    "## Genetic Algorithm"
   ]
  },
  {
   "attachments": {},
   "cell_type": "markdown",
   "metadata": {},
   "source": [
    "The `find_equation` function does the process of finding the equation.  \n",
    "The while loop is repeated `consts.max_generations` times with each iteration corresponding to a generation, until the equation is found.\n",
    "\n",
    "The process is as follows:\n",
    "\n",
    "- The population is shuffled.\n",
    "\n",
    "- Fitness is calculated for each chromosome.  \n",
    "  If the fitness of a chromosome is 1, that chromosomes satisfies our equation and is the solution.\n",
    "\n",
    "- The carried pool is created.  \n",
    "  The count of the carry chromosomes is `consts.prob_carry` percent of the population size.\n",
    "\n",
    "- The mating pool is created, and crossover and mutation is applied.\n",
    "\n",
    "- The carried pool is added to the population.  \n",
    "  Which means that some of the mating population is discarded to not change the size of the population."
   ]
  },
  {
   "cell_type": "code",
   "execution_count": 20,
   "metadata": {},
   "outputs": [],
   "source": [
    "def find_equation(inp: Input, consts: Consts, population: list[Chromosome]) -> list[Chromosome]:\n",
    "    generation_num = 0\n",
    "    while True:\n",
    "        generation_num += 1\n",
    "        if generation_num == consts.max_generations:\n",
    "            return None\n",
    "\n",
    "        random.shuffle(population)\n",
    "\n",
    "        fitnesses = [calc_fitness(inp, chromo) for chromo in population]\n",
    "        try:\n",
    "            return population[fitnesses.index(1)]\n",
    "        except ValueError:\n",
    "            pass\n",
    "        \n",
    "        carry_count = int(len(population) * consts.prob_carry)\n",
    "        carried_pool = create_carried_pool(population, fitnesses, carry_count)\n",
    "\n",
    "        mating_pool = create_mating_pool(population, fitnesses)\n",
    "        crossover_pool = create_crossover_pool(mating_pool, consts.prob_xover)\n",
    "        mutated_pool = create_mutated_pool(crossover_pool, consts.prob_mutate, inp)\n",
    "\n",
    "        population = mutated_pool[:len(population) - carry_count]\n",
    "        population.extend(carried_pool)"
   ]
  },
  {
   "attachments": {},
   "cell_type": "markdown",
   "metadata": {},
   "source": [
    "At last, the input and constant parameters are given and `find_equation` is called with a random initial population."
   ]
  },
  {
   "attachments": {},
   "cell_type": "markdown",
   "metadata": {},
   "source": [
    "## Example Run"
   ]
  },
  {
   "cell_type": "code",
   "execution_count": 21,
   "metadata": {},
   "outputs": [
    {
     "name": "stdout",
     "output_type": "stream",
     "text": [
      "5 - 8 * 4 * 5 * 5 - 2 + 8 * 6 * 7 * 8 * 7\n"
     ]
    }
   ],
   "source": [
    "inp = Input(\n",
    "    eq_len=21,\n",
    "    operands=['1', '2', '3', '4', '5', '6', '7', '8'],\n",
    "    operators=['+', '-', '*'],\n",
    "    goal=18019\n",
    ")\n",
    "consts = Consts(\n",
    "    prob_xover=0.6,\n",
    "    prob_mutate=0.4,\n",
    "    prob_carry=0.2,\n",
    "    population_size=200,\n",
    "    max_generations=1000\n",
    ")\n",
    "\n",
    "result = find_equation(inp, consts, gen_population(inp, consts.population_size))\n",
    "if result is None:\n",
    "    print('Could not find equation.')\n",
    "else:\n",
    "    print(*result)"
   ]
  },
  {
   "attachments": {},
   "cell_type": "markdown",
   "metadata": {},
   "source": [
    "## Questions"
   ]
  },
  {
   "attachments": {},
   "cell_type": "markdown",
   "metadata": {},
   "source": [
    "1. *The problems caused by an extremely large or small population size:*  \n",
    "  If the population is too small, diversity decreases and not many cases are checked in each generation. So the chances of reaching the correct solution in the same number of generations is decreased. We can make this better by increasing the mutation probability and checking more generations.  \n",
    "  If the population is too large, the algorithm will take more time and resources than needed.\n",
    "\n",
    "2. *The effects of a growing population on the algorithm:*  \n",
    "  If the population grows with each generation, although the precision of the algorithm may increase because of more diversity, the time and memory consumption will increase in each step which is a problem and may reach some limitations.  \n",
    "  The population size is kept the same because it is supposed to converge by populating it with the chromosomes closer to the answer and discarding the ones further away. By adding more in each step, we are not working in favor of the convergence.\n",
    "\n",
    "3. *The distinct effects of crossover and mutation:*  \n",
    "  Crossover will create new chromosomes by combining two chromosomes while mutation changes a chromosome directly.  \n",
    "  Crossover is done with a much higher probability than mutation.  \n",
    "  Crossover hopes to reach better chromosomes by combining two good chromosomes while mutation is used to escape getting stuck in a local extremum.  \n",
    "  We cannot reach the solution by only using one of them because of their different effects.\n",
    "\n",
    "1. *Approaches to solving the equation problem faster:*  \n",
    "  The problem parameters are most effective for this. Choosing the right amount for each parameter can make the algorithm run more efficiently.\n",
    "\n",
    "1. *Solutions to stagnated chromosomes and getting stuck:*  \n",
    "  Mutation is used to escape local extremums which is implemented in this assignment.  \n",
    "  And in case of getting stuck even after mutations, multi-starting the algorithm can overcome the problem.  \n",
    "  Multi-starting is re-running the algorithm with a new initial population.\n",
    "\n",
    "1. *Stopping the algorithm if a solution does not exist:*  \n",
    "  We can limit the number of generations the algorithm explores."
   ]
  },
  {
   "attachments": {},
   "cell_type": "markdown",
   "metadata": {},
   "source": [
    "Running the algorithm with multi-start:"
   ]
  },
  {
   "cell_type": "code",
   "execution_count": 22,
   "metadata": {},
   "outputs": [
    {
     "name": "stdout",
     "output_type": "stream",
     "text": [
      "8 * 6 * 8 * 1 - 5 + 7 * 5 * 4 * 3 * 6 * 7\n"
     ]
    }
   ],
   "source": [
    "multi_start_limit = 4\n",
    "while multi_start_limit:\n",
    "    result = find_equation(inp, consts, gen_population(inp, consts.population_size))\n",
    "    if result is None:\n",
    "        multi_start_limit -= 1\n",
    "    else:\n",
    "        print(*result)\n",
    "        break\n",
    "else:\n",
    "    print('Could not find equation.')"
   ]
  }
 ],
 "metadata": {
  "kernelspec": {
   "display_name": "Python 3.11.0 64-bit",
   "language": "python",
   "name": "python3"
  },
  "language_info": {
   "codemirror_mode": {
    "name": "ipython",
    "version": 3
   },
   "file_extension": ".py",
   "mimetype": "text/x-python",
   "name": "python",
   "nbconvert_exporter": "python",
   "pygments_lexer": "ipython3",
   "version": "3.11.0"
  },
  "orig_nbformat": 4,
  "vscode": {
   "interpreter": {
    "hash": "c261aea317cc0286b3b3261fbba9abdec21eaa57589985bb7a274bf54d6cc0a7"
   }
  }
 },
 "nbformat": 4,
 "nbformat_minor": 2
}
