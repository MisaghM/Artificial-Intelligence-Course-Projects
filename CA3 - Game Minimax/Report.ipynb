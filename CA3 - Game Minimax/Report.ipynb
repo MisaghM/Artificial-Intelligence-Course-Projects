{
 "cells": [
  {
   "attachments": {},
   "cell_type": "markdown",
   "metadata": {},
   "source": [
    "# Misagh Mohaghegh - 810199484"
   ]
  },
  {
   "attachments": {},
   "cell_type": "markdown",
   "metadata": {},
   "source": [
    "Artificial Intelligence CA3: *Game*  \n",
    "In this assignment, game of sim (pencil game) is played by two agents.  \n",
    "One of them uses the alpha-beta minimax algorithm to play optimally, while the other agent plays randomly."
   ]
  },
  {
   "attachments": {},
   "cell_type": "markdown",
   "metadata": {},
   "source": [
    "## Players"
   ]
  },
  {
   "attachments": {},
   "cell_type": "markdown",
   "metadata": {},
   "source": [
    "The given code sample has been improved.  \n",
    "The various imports are written and some typedefs are made.  \n",
    "A line is defined by its 2 vertex numbers."
   ]
  },
  {
   "cell_type": "code",
   "execution_count": 101,
   "metadata": {},
   "outputs": [],
   "source": [
    "import math\n",
    "import random\n",
    "import turtle\n",
    "import time\n",
    "import copy\n",
    "from enum import Enum\n",
    "\n",
    "\n",
    "Color = str | tuple[float, float, float]\n",
    "Point = tuple[float, float]\n",
    "Line = tuple[float, float]"
   ]
  },
  {
   "attachments": {},
   "cell_type": "markdown",
   "metadata": {},
   "source": [
    "A `Player` enum is defined which has the invert operator `[~]` overloaded to return the other player.  \n",
    "The `color` method returns the corresponding `Color` of the player."
   ]
  },
  {
   "cell_type": "code",
   "execution_count": 102,
   "metadata": {},
   "outputs": [],
   "source": [
    "class Player(Enum):\n",
    "    NIL = 0\n",
    "    RED = 1\n",
    "    BLU = 2\n",
    "\n",
    "    def color(self) -> Color:\n",
    "        if self == Player.RED:\n",
    "            return 'red'\n",
    "        if self == Player.BLU:\n",
    "            return 'blue'\n",
    "        return 'black'\n",
    "\n",
    "    def __invert__(self):\n",
    "        if self == Player.RED:\n",
    "            return Player.BLU\n",
    "        if self == Player.BLU:\n",
    "            return Player.RED\n",
    "        return Player.NIL"
   ]
  },
  {
   "attachments": {},
   "cell_type": "markdown",
   "metadata": {},
   "source": [
    "## GUI"
   ]
  },
  {
   "attachments": {},
   "cell_type": "markdown",
   "metadata": {},
   "source": [
    "The `Gui` class has methods for drawing the pencil game.  "
   ]
  },
  {
   "cell_type": "code",
   "execution_count": 103,
   "metadata": {},
   "outputs": [],
   "source": [
    "class Gui:\n",
    "    def __init__(self, width: int, height: int, title: str = ''):\n",
    "        turtle.setup(width, height)\n",
    "        turtle.title(title)\n",
    "        turtle.setworldcoordinates(-1.5, -1.5, 1.5, 1.5)\n",
    "        turtle.tracer(0, 0)\n",
    "        turtle.hideturtle()\n",
    "\n",
    "    def draw_dot(self, dot: Point, color: Color):\n",
    "        turtle.up()\n",
    "        turtle.goto(dot)\n",
    "        turtle.color(color)\n",
    "        turtle.dot(15)\n",
    "\n",
    "    def draw_line(self, p1: Point, p2: Point, color: Color, pensize: int):\n",
    "        turtle.up()\n",
    "        turtle.pensize(pensize)\n",
    "        turtle.goto(p1)\n",
    "        turtle.down()\n",
    "        turtle.color(color)\n",
    "        turtle.goto(p2)\n",
    "\n",
    "    def update(self):\n",
    "        turtle.update()\n",
    "\n",
    "    def clear(self):\n",
    "        turtle.clear()"
   ]
  },
  {
   "attachments": {},
   "cell_type": "markdown",
   "metadata": {},
   "source": [
    "## The Main Game Class"
   ]
  },
  {
   "attachments": {},
   "cell_type": "markdown",
   "metadata": {},
   "source": [
    "### Constructor"
   ]
  },
  {
   "attachments": {},
   "cell_type": "markdown",
   "metadata": {},
   "source": [
    "Next, the `Sim` class is defined which will play the game.  \n",
    "The class has many fields which are described below:\n",
    "\n",
    "- `minimax_depth`: The maximum depth the minimax tree will be searched.\n",
    "- `prune`: Boolean to do alpha-beta pruning or not.\n",
    "- `vertices`: The number of vertices in the game.\n",
    "---\n",
    "- `turn`: The player who has to play currently.\n",
    "- `reds`: All of the lines that red has drawn.\n",
    "- `blues`: All of the lines that blue has drawn.\n",
    "- `available_moves`: All of the lines that are yet to be drawn.\n",
    "---\n",
    "- `gui`: Boolean to show the game or not.\n",
    "- `gui_dots`: List of the vertices' points in the gui.\n",
    "- `frame_delay`: How much to wait between each line drawing."
   ]
  },
  {
   "cell_type": "code",
   "execution_count": 104,
   "metadata": {},
   "outputs": [],
   "source": [
    "class Sim:\n",
    "    def __init__(self, minimax_depth: int, prune: bool, vertices: int, gui: bool, frame_delay: float = 1):\n",
    "        self.minimax_depth: int = minimax_depth\n",
    "        self.prune: bool = prune\n",
    "        self.vertices: int = vertices\n",
    "\n",
    "        self.turn: Player = Player.RED\n",
    "        self.reds: list[Line] = []\n",
    "        self.blues: list[Line] = []\n",
    "        self.available_moves: list[Line] = []\n",
    "\n",
    "        self.gui = Gui(600, 600, 'Game of SIM - 810199484') if gui else None\n",
    "        self.gui_dots: list[Point] = []\n",
    "        self.frame_delay: float = frame_delay"
   ]
  },
  {
   "attachments": {},
   "cell_type": "markdown",
   "metadata": {},
   "source": [
    "### GUI Methods"
   ]
  },
  {
   "attachments": {},
   "cell_type": "markdown",
   "metadata": {},
   "source": [
    "The methods of the `Sim` class will now be explained:\n",
    "\n",
    "- `generate_dots`: This will generate a list of points that the `Gui` can draw.\n",
    "- `draw_line`: Draws a line from a dot to another.\n",
    "- `draw`: This will draw the dots saved in `gui_dots` (created by `generate_dots`) and draw the lines done by either player with their respective color. It will then sleep for `frame_delay` seconds."
   ]
  },
  {
   "cell_type": "code",
   "execution_count": 105,
   "metadata": {},
   "outputs": [],
   "source": [
    "def generate_dots(self) -> list[Point]:\n",
    "    dots: list[Point] = []\n",
    "    for angle in range(0, 360, 360 // self.vertices):\n",
    "        radians = math.radians(angle)\n",
    "        dots.append((math.cos(radians), math.sin(radians)))\n",
    "    return dots\n",
    "\n",
    "\n",
    "def draw_line(self, line: Line, color: Color, pensize: int = 3):\n",
    "    angle = 360 // self.vertices\n",
    "    radX, radY = (math.radians(line[0] * angle), math.radians(line[1] * angle))\n",
    "    self.gui.draw_line((math.cos(radX), math.sin(radX)),\n",
    "                       (math.cos(radY), math.sin(radY)),\n",
    "                       color, pensize)\n",
    "\n",
    "\n",
    "def draw(self):\n",
    "    if self.gui is None:\n",
    "        return\n",
    "\n",
    "    for dot in self.gui_dots:\n",
    "        self.gui.draw_dot(dot, 'dark gray')\n",
    "\n",
    "    for red in self.reds:\n",
    "        self.draw_line(red, 'red')\n",
    "    for blue in self.blues:\n",
    "        self.draw_line(blue, 'blue')\n",
    "\n",
    "    self.gui.update()\n",
    "    time.sleep(self.frame_delay)\n",
    "\n",
    "\n",
    "Sim.generate_dots = generate_dots\n",
    "Sim.draw_line = draw_line\n",
    "Sim.draw = draw"
   ]
  },
  {
   "attachments": {},
   "cell_type": "markdown",
   "metadata": {},
   "source": [
    "### Turns and Triangle Condition Methods"
   ]
  },
  {
   "attachments": {},
   "cell_type": "markdown",
   "metadata": {},
   "source": [
    "- `random_move`: Chooses a random line to draw.\n",
    "- `swap_turn`: Used to swap the player turns.\n",
    "- `check_triangle`: Checks if a triangle is formed within `lines` and returns the 3 lines that make it."
   ]
  },
  {
   "cell_type": "code",
   "execution_count": 106,
   "metadata": {},
   "outputs": [],
   "source": [
    "def random_move(self) -> Line:\n",
    "    return random.choice(self.available_moves)\n",
    "\n",
    "def swap_turn(self):\n",
    "    self.turn = ~self.turn\n",
    "\n",
    "def check_triangle(self, lines: list[Line]) -> tuple[Line, Line, Line] | None:\n",
    "    for i in range(len(lines) - 2):\n",
    "        for j in range(i + 1, len(lines) - 1):\n",
    "            for k in range(j + 1, len(lines)):\n",
    "                unique_dots = {*lines[i], *lines[j], *lines[k]}\n",
    "                if len(unique_dots) == 3:\n",
    "                    return (lines[i], lines[j], lines[k])\n",
    "    return None\n",
    "\n",
    "Sim.random_move = random_move\n",
    "Sim.swap_turn = swap_turn\n",
    "Sim.check_triangle = check_triangle"
   ]
  },
  {
   "attachments": {},
   "cell_type": "markdown",
   "metadata": {},
   "source": [
    "### Game Methods"
   ]
  },
  {
   "attachments": {},
   "cell_type": "markdown",
   "metadata": {},
   "source": [
    "- `initialize`:  \n",
    "  Initializes the game. The `reds` and `blues` line lists are cleared and `available_moves` are reset.  \n",
    "  A random player is chosen as the first player and the dots are drawn on the GUI.\n",
    "\n",
    "- `play`:  \n",
    "  Calls initialize and while there is an `available_move`, the players take turns with red playing `minimax` and blue playing `random_move`  \n",
    "  Whichever move they choose is added to their lists and removed from the available list.  \n",
    "  The GUI is updated and a check for gameover happens.  \n",
    "  Returns the winner of the game after it is over.\n",
    "\n",
    "- `gameover`:  \n",
    "  Checks if the game is over (one of the players have drawn a triangle and lost) and highlights the triangle on the GUI."
   ]
  },
  {
   "cell_type": "code",
   "execution_count": 107,
   "metadata": {},
   "outputs": [],
   "source": [
    "def initialize(self):\n",
    "    self.available_moves.clear()\n",
    "    self.reds.clear()\n",
    "    self.blues.clear()\n",
    "\n",
    "    for i in range(0, self.vertices):\n",
    "        for j in range(i, self.vertices):\n",
    "            if i != j:\n",
    "                self.available_moves.append((i, j))\n",
    "\n",
    "    self.turn = random.choice((Player.RED, Player.BLU))\n",
    "\n",
    "    self.gui_dots = self.generate_dots()\n",
    "    if self.gui is not None:\n",
    "        self.gui.clear()\n",
    "\n",
    "    self.draw()\n",
    "\n",
    "\n",
    "def play(self) -> Player:\n",
    "    self.initialize()\n",
    "    while self.available_moves:\n",
    "        if self.turn == Player.RED:\n",
    "            selection = self.minimax(self.minimax_depth, self.turn)[0]\n",
    "            self.reds.append(selection)\n",
    "        else:\n",
    "            selection = self.random_move()\n",
    "            self.blues.append(selection)\n",
    "\n",
    "        self.available_moves.remove(selection)\n",
    "        self.swap_turn()\n",
    "        self.draw()\n",
    "\n",
    "        winner = self.gameover()\n",
    "        if winner != Player.NIL:\n",
    "            return winner\n",
    "    return Player.NIL\n",
    "\n",
    "\n",
    "def gameover(self) -> Player:\n",
    "    def draw_lines(lines: list[Line], color: Color, pensize: int):\n",
    "        if self.gui is None:\n",
    "            return None\n",
    "        for line in lines:\n",
    "            self.draw_line(line, color, pensize)\n",
    "        self.gui.update()\n",
    "        time.sleep(self.frame_delay)\n",
    "\n",
    "    def check_triangle_creator() -> tuple[Player, tuple[Line, Line, Line]]:\n",
    "        if len(self.reds) < 3 and len(self.blues) < 3:\n",
    "            return Player.NIL, None\n",
    "        three_lines = self.check_triangle(self.reds)\n",
    "        if three_lines:\n",
    "            return Player.RED, three_lines\n",
    "        three_lines = self.check_triangle(self.blues)\n",
    "        if three_lines:\n",
    "            return Player.BLU, three_lines\n",
    "        return Player.NIL, None\n",
    "\n",
    "    loser, lines = check_triangle_creator()\n",
    "    if not lines:\n",
    "        return Player.NIL\n",
    "    draw_lines(lines, loser.color(), 7)\n",
    "    return ~loser\n",
    "\n",
    "\n",
    "Sim.initialize = initialize\n",
    "Sim.play = play\n",
    "Sim.gameover = gameover"
   ]
  },
  {
   "attachments": {},
   "cell_type": "markdown",
   "metadata": {},
   "source": [
    "### Minimax Method"
   ]
  },
  {
   "attachments": {},
   "cell_type": "markdown",
   "metadata": {},
   "source": [
    "This is the main part of the alpha-beta minimax algorithm.\n",
    "\n",
    "`minimax` is a recursive function that runs the algorithm.  \n",
    "It takes 4 parameters:\n",
    "\n",
    "- `depth`: The current depth (which decreases every time we go deeper into the tree)\n",
    "- `turn`: Specifies which player's turn it is.\n",
    "- `alpha`: The maximum of the ancestor's branches along the path to the current node so far.\n",
    "- `beta`: The minimum of the ancestor's branches along the path to the current node so far.\n",
    "\n",
    "If the `prune` flag is false, alpha and beta do not do anything.\n",
    "\n",
    "At each recursion, it is checked whether a triangle is made and + (for red) or - (for blue) infinity is returned because someone has lost the game.  \n",
    "If we have reached the depth limit of the tree and the game in that path is not over yet, we use the `evaluate` function to score the current state.  \n",
    "Next, based on the current turn, all available moves are iterated and for each of them, they are added to the players move lists and removed from the available moves, and minimax is recursively called again.  \n",
    "Minimax returns a tuple of the done move, its score, and the depth the move was chosen from.  \n",
    "The maximum score and move are saved here, and if 2 moves have the same score, the one that occurred in a lower depth take priority. This is so that if the agent is going to lose, it loses later and not sooner because the other agent is playing randomly and red still has a chance of winning.  "
   ]
  },
  {
   "cell_type": "code",
   "execution_count": 108,
   "metadata": {},
   "outputs": [],
   "source": [
    "def minimax(self, depth: int, turn: Player, alpha: float = -math.inf, beta: float = math.inf) -> tuple[Line, int, int]:\n",
    "    if turn == Player.BLU:\n",
    "        if self.check_triangle(self.reds):\n",
    "            return None, -math.inf, depth\n",
    "    if turn == Player.RED:\n",
    "        if self.check_triangle(self.blues):\n",
    "            return None, +math.inf, depth\n",
    "\n",
    "    if depth <= 0:\n",
    "        return None, self.evaluate(turn), depth\n",
    "\n",
    "    optimal_move = None\n",
    "    score_depth = -1\n",
    "\n",
    "    if turn == Player.RED:\n",
    "        score_max = -math.inf\n",
    "        for move in copy.deepcopy(self.available_moves):\n",
    "            self.reds.append(move)\n",
    "            self.available_moves.remove(move)\n",
    "\n",
    "            _, score, ret_depth = self.minimax(depth - 1, ~turn, alpha, beta)\n",
    "            ret_depth = self.minimax_depth - ret_depth\n",
    "\n",
    "            self.reds.remove(move)\n",
    "            self.available_moves.append(move)\n",
    "\n",
    "            if score == math.inf:\n",
    "                return move, score, ret_depth\n",
    "\n",
    "            if score > score_max:\n",
    "                optimal_move = move\n",
    "                score_max = score\n",
    "                score_depth = ret_depth\n",
    "                alpha = max(alpha, score_max)\n",
    "                if self.prune and score_max >= beta:\n",
    "                    break\n",
    "            elif score == score_max:\n",
    "                if ret_depth > score_depth:\n",
    "                    optimal_move = move\n",
    "                    score_depth = ret_depth\n",
    "\n",
    "        return optimal_move, score_max, score_depth\n",
    "\n",
    "    if turn == Player.BLU:\n",
    "        score_min = math.inf\n",
    "        for move in copy.deepcopy(self.available_moves):\n",
    "            self.blues.append(move)\n",
    "            self.available_moves.remove(move)\n",
    "\n",
    "            _, score, ret_depth = self.minimax(depth - 1, ~turn, alpha, beta)\n",
    "            ret_depth = self.minimax_depth - ret_depth\n",
    "\n",
    "            self.blues.remove(move)\n",
    "            self.available_moves.append(move)\n",
    "\n",
    "            if score == -math.inf:\n",
    "                return move, score, ret_depth\n",
    "\n",
    "            if score < score_min:\n",
    "                optimal_move = move\n",
    "                score_min = score\n",
    "                score_depth = ret_depth\n",
    "                beta = min(beta, score_min)\n",
    "                if self.prune and score_min <= alpha:\n",
    "                    break\n",
    "            elif score == score_min:\n",
    "                if ret_depth > score_depth:\n",
    "                    optimal_move = move\n",
    "                    score_depth = ret_depth\n",
    "\n",
    "        return optimal_move, score_min, score_depth\n",
    "\n",
    "Sim.minimax = minimax"
   ]
  },
  {
   "attachments": {},
   "cell_type": "markdown",
   "metadata": {},
   "source": [
    "### Evaluation Method"
   ]
  },
  {
   "attachments": {},
   "cell_type": "markdown",
   "metadata": {},
   "source": [
    "The `evaluate` function scores the current state.  \n",
    "The chosen evaluation method iterates the available moves and if that makes a triangle for us, the score is lowered and otherwise it is upped just a bit.  \n",
    "While adding score if the other player loses with a move increases our precision, it comes with a lot of time cost and the result was not that much different and is therefore commented out."
   ]
  },
  {
   "cell_type": "code",
   "execution_count": 109,
   "metadata": {},
   "outputs": [],
   "source": [
    "def evaluate(self, turn: Player) -> int:\n",
    "    score_multiplier = 1 if turn == Player.RED else -1\n",
    "    turn_lines = self.reds if turn == Player.RED else self.blues\n",
    "    other_lines = self.blues if turn == Player.RED else self.reds\n",
    "    score = 0\n",
    "    for x in self.available_moves:\n",
    "        if self.check_triangle(turn_lines + [x]):\n",
    "            score -= 10\n",
    "        # elif self.check_triangle(other_lines + [x]):\n",
    "        #     score += 10\n",
    "        else:\n",
    "            score += 1\n",
    "    return score * score_multiplier\n",
    "\n",
    "Sim.evaluate = evaluate"
   ]
  },
  {
   "attachments": {},
   "cell_type": "markdown",
   "metadata": {},
   "source": [
    "### Example Run and Timing"
   ]
  },
  {
   "cell_type": "code",
   "execution_count": 113,
   "metadata": {},
   "outputs": [
    {
     "name": "stdout",
     "output_type": "stream",
     "text": [
      "Time taken: 1.228 seconds\n",
      "Average time per game: 0.012 seconds\n",
      "Total red wins: 96\n",
      "Total blue wins: 4\n"
     ]
    }
   ],
   "source": [
    "DEPTH = 3\n",
    "GUI = False\n",
    "PRUNE = True\n",
    "LOOPS = 100\n",
    "\n",
    "game = Sim(\n",
    "    minimax_depth=DEPTH,\n",
    "    prune=PRUNE,\n",
    "    vertices=6,\n",
    "    gui=GUI,\n",
    "    frame_delay=0.5\n",
    ")\n",
    "results = {Player.RED: 0, Player.BLU: 0, Player.NIL: 0}\n",
    "\n",
    "time_start = time.time()\n",
    "for _ in range(LOOPS):\n",
    "    winner = game.play()\n",
    "    results[winner] += 1\n",
    "time_end = time.time()\n",
    "\n",
    "print(f'Time taken: {time_end - time_start:.3f} seconds')\n",
    "print(f'Average time per game: {(time_end - time_start) / LOOPS:.3f} seconds')\n",
    "print(f'Total red wins: {results[Player.RED]}')\n",
    "print(f'Total blue wins: {results[Player.BLU]}')"
   ]
  },
  {
   "attachments": {},
   "cell_type": "markdown",
   "metadata": {},
   "source": [
    "## Questions"
   ]
  },
  {
   "attachments": {},
   "cell_type": "markdown",
   "metadata": {},
   "source": [
    "1. *What make a good heuristic? Why was the current heuristic chosen?*  \n",
    "  A good heuristic for the evaluation function must give a score that closely relates to the real outcome of the state.  \n",
    "  The heuristic must take into account most of the state properties and correctly predict the results with a high probability.  \n",
    "  The chosen heuristic relies on the gameover condition which is forming a triangle.  \n",
    "  In an arbitrary state, there are some lines that are yet to be drawn and are still available.  \n",
    "  For each of them, if we can form a triangle with it, thats a negative score for us and if the enemy can make a triangle, that's a plus for us. If the move does not form anything, we just add 1 to the score.  \n",
    "  This means that between some states, the one that will leave us with a much more open space and choices without losing (and potentially making the opponent lose) will take priority.\n",
    "\n",
    "2. *The effects of the minimax depth:*  \n",
    "  Clearly, the more the depth, the more states that will be actually explored which will bring us lower in the search tree and closer to the results, thus making the evaluation more precise and our chances of winning higher.  \n",
    "  This will of course, increase the time the algorithm takes.\n",
    "\n",
    "3. *The order of exploring children when pruning:*  \n",
    "  The order of searching without pruning does not change anything for all states are searched whatever the result of a branch may be.  \n",
    "  But when pruning, the ordering changes the number of visited states, though the outcome will not change or differ from that of no pruning.  \n",
    "  The visited states change because in an order, nothing may be pruned but in another order the pruning may happen within the initial nodes.  \n",
    "  Lower visited states correlate directly to less time consumption.  \n",
    "  In this assignment implementation, no specific ordering is chosen."
   ]
  },
  {
   "attachments": {},
   "cell_type": "markdown",
   "metadata": {},
   "source": [
    "The results of running the algorithm are as follow:  \n",
    "Each section is ran 3 times, each time playing the game 100 times.\n",
    "\n",
    "- Depth: 1, Prune: False\n",
    "\n",
    "| Run | Time Taken | Average Per Game | Red | Blue |\n",
    "| :-: | :--------: | :--------------: | :-: | :--: |\n",
    "| 1   | 0.055      | 0.001            | 90  | 10   |\n",
    "| 2   | 0.058      | 0.001            | 96  | 4    |\n",
    "| 3   | 0.058      | 0.001            | 88  | 12   |\n",
    "\n",
    "- Depth: 3, Prune: False\n",
    "\n",
    "| Run | Time Taken | Average Per Game | Red | Blue |\n",
    "| :-: | :--------: | :--------------: | :-: | :--: |\n",
    "| 1   | 5.649      | 0.056            | 97  | 3    |\n",
    "| 2   | 5.427      | 0.054            | 97  | 3    |\n",
    "| 3   | 5.921      | 0.059            | 85  | 15   |\n",
    "\n",
    "- Depth: 5, Prune: False\n",
    "\n",
    "| Run | Time Taken | Average Per Game | Red | Blue |\n",
    "| :-: | :--------: | :--------------: | :-: | :--: |\n",
    "| 1   | 663.173    | 6.632            | 99  | 1    |\n",
    "| 2   | 657.223    | 6.572            | 94  | 6    |\n",
    "| 3   | 671.824    | 6.718            | 98  | 2    |\n",
    "\n",
    "- Depth: 1, Prune: True\n",
    "\n",
    "| Run | Time Taken | Average Per Game | Red | Blue |\n",
    "| :-: | :--------: | :--------------: | :-: | :--: |\n",
    "| 1   | 0.067      | 0.001            | 89  | 11   |\n",
    "| 2   | 0.069      | 0.001            | 93  | 7    |\n",
    "| 3   | 0.068      | 0.001            | 90  | 10   |\n",
    "\n",
    "- Depth: 3, Prune: True\n",
    "\n",
    "| Run | Time Taken | Average Per Game | Red | Blue |\n",
    "| :-: | :--------: | :--------------: | :-: | :--: |\n",
    "| 1   | 1.390      | 0.014            | 95  | 5    |\n",
    "| 2   | 1.355      | 0.014            | 96  | 4    |\n",
    "| 3   | 1.361      | 0.014            | 97  | 3    |\n",
    "\n",
    "- Depth: 5, Prune: True\n",
    "\n",
    "| Run | Time Taken | Average Per Game | Red | Blue |\n",
    "| :-: | :--------: | :--------------: | :-: | :--: |\n",
    "| 1   | 21.212     | 0.212            | 100 | 0    |\n",
    "| 2   | 20.212     | 0.202            | 99  | 1    |\n",
    "| 3   | 20.663     | 0.207            | 99  | 1    |\n",
    "\n",
    "- Depth: 7, Prune: True\n",
    "\n",
    "| Run | Time Taken | Average Per Game | Red | Blue |\n",
    "| :-: | :--------: | :--------------: | :-: | :--: |\n",
    "| 1   | 264.456    | 2.645            | 97  | 3    |\n",
    "| 2   | 260.128    | 2.601            | 100 | 0    |\n",
    "| 3   | 258.523    | 2.585            | 100 | 0    |\n"
   ]
  }
 ],
 "metadata": {
  "kernelspec": {
   "display_name": "Python 3",
   "language": "python",
   "name": "python3"
  },
  "language_info": {
   "codemirror_mode": {
    "name": "ipython",
    "version": 3
   },
   "file_extension": ".py",
   "mimetype": "text/x-python",
   "name": "python",
   "nbconvert_exporter": "python",
   "pygments_lexer": "ipython3",
   "version": "3.11.0"
  },
  "orig_nbformat": 4,
  "vscode": {
   "interpreter": {
    "hash": "c261aea317cc0286b3b3261fbba9abdec21eaa57589985bb7a274bf54d6cc0a7"
   }
  }
 },
 "nbformat": 4,
 "nbformat_minor": 2
}
